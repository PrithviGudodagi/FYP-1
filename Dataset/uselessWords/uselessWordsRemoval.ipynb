{
 "cells": [
  {
   "cell_type": "code",
   "execution_count": 1,
   "metadata": {},
   "outputs": [],
   "source": [
    "import pandas as pd\n",
    "\n"
   ]
  },
  {
   "cell_type": "code",
   "execution_count": 4,
   "metadata": {},
   "outputs": [],
   "source": [
    "df = pd.read_excel('../dataset/Excel/dataset_lemmatized.xlsx' )"
   ]
  },
  {
   "cell_type": "code",
   "execution_count": 5,
   "metadata": {},
   "outputs": [
    {
     "data": {
      "text/html": [
       "<div>\n",
       "<style scoped>\n",
       "    .dataframe tbody tr th:only-of-type {\n",
       "        vertical-align: middle;\n",
       "    }\n",
       "\n",
       "    .dataframe tbody tr th {\n",
       "        vertical-align: top;\n",
       "    }\n",
       "\n",
       "    .dataframe thead th {\n",
       "        text-align: right;\n",
       "    }\n",
       "</style>\n",
       "<table border=\"1\" class=\"dataframe\">\n",
       "  <thead>\n",
       "    <tr style=\"text-align: right;\">\n",
       "      <th></th>\n",
       "      <th>Unnamed: 0</th>\n",
       "      <th>Unnamed: 0.1</th>\n",
       "      <th>Unnamed: 0.1.1</th>\n",
       "      <th>Job Applicants:</th>\n",
       "      <th>Openings:</th>\n",
       "      <th>PG :</th>\n",
       "      <th>UG :</th>\n",
       "      <th>experience</th>\n",
       "      <th>job_desc</th>\n",
       "      <th>key_skills</th>\n",
       "      <th>position</th>\n",
       "      <th>salary</th>\n",
       "      <th>Doctorate :</th>\n",
       "    </tr>\n",
       "  </thead>\n",
       "  <tbody>\n",
       "    <tr>\n",
       "      <th>0</th>\n",
       "      <td>0</td>\n",
       "      <td>0</td>\n",
       "      <td>0</td>\n",
       "      <td>59</td>\n",
       "      <td>1.0</td>\n",
       "      <td>Post Graduation Not Required</td>\n",
       "      <td>Any Graduate</td>\n",
       "      <td>2 - 5 years</td>\n",
       "      <td>charter accountancy cpa cima mba cfa post qua...</td>\n",
       "      <td>['Assurance', 'Business transformation', 'Fixe...</td>\n",
       "      <td>PPM041 - AM-Internal Audit</td>\n",
       "      <td>Not Disclosed</td>\n",
       "      <td>NaN</td>\n",
       "    </tr>\n",
       "    <tr>\n",
       "      <th>1</th>\n",
       "      <td>1</td>\n",
       "      <td>1</td>\n",
       "      <td>1</td>\n",
       "      <td>39</td>\n",
       "      <td>1.0</td>\n",
       "      <td>Post Graduation Not Required</td>\n",
       "      <td>B.Tech/B.E. in Computers</td>\n",
       "      <td>4 - 6 years</td>\n",
       "      <td>role responsibility high-quality virtual in-p...</td>\n",
       "      <td>['Hibernate', 'Core Java', 'Front End', 'Oracl...</td>\n",
       "      <td>Java Full Stack Developer</td>\n",
       "      <td>Not Disclosed</td>\n",
       "      <td>NaN</td>\n",
       "    </tr>\n",
       "    <tr>\n",
       "      <th>2</th>\n",
       "      <td>2</td>\n",
       "      <td>2</td>\n",
       "      <td>2</td>\n",
       "      <td>130</td>\n",
       "      <td>1.0</td>\n",
       "      <td>Post Graduation Not Required</td>\n",
       "      <td>B.Tech/B.E. in Computers</td>\n",
       "      <td>5 - 10 years</td>\n",
       "      <td>role responsibility actively team data soluti...</td>\n",
       "      <td>['Computer science', 'Data analysis', 'Analyti...</td>\n",
       "      <td>Sr. Data Scientist</td>\n",
       "      <td>Not Disclosed</td>\n",
       "      <td>NaN</td>\n",
       "    </tr>\n",
       "    <tr>\n",
       "      <th>3</th>\n",
       "      <td>3</td>\n",
       "      <td>3</td>\n",
       "      <td>3</td>\n",
       "      <td>42</td>\n",
       "      <td>1.0</td>\n",
       "      <td>Post Graduation Not Required</td>\n",
       "      <td>B.Tech/B.E. in Computers</td>\n",
       "      <td>10 - 15 years</td>\n",
       "      <td>principle architect communicator architecture...</td>\n",
       "      <td>['Linux', 'Coding', 'Project management', 'Ana...</td>\n",
       "      <td>Principle Architect</td>\n",
       "      <td>Not Disclosed</td>\n",
       "      <td>NaN</td>\n",
       "    </tr>\n",
       "    <tr>\n",
       "      <th>4</th>\n",
       "      <td>4</td>\n",
       "      <td>4</td>\n",
       "      <td>4</td>\n",
       "      <td>102</td>\n",
       "      <td>1.0</td>\n",
       "      <td>Post Graduation Not Required</td>\n",
       "      <td>B.Tech/B.E. in Computers</td>\n",
       "      <td>3 - 8 years</td>\n",
       "      <td>3-8 dashboard report design development power...</td>\n",
       "      <td>['tableau', 'Reporting Analyst', 'SQL database...</td>\n",
       "      <td>Industry Consulting Prin. Consultant</td>\n",
       "      <td>Not Disclosed</td>\n",
       "      <td>NaN</td>\n",
       "    </tr>\n",
       "  </tbody>\n",
       "</table>\n",
       "</div>"
      ],
      "text/plain": [
       "   Unnamed: 0  Unnamed: 0.1  Unnamed: 0.1.1 Job Applicants: Openings:  \\\n",
       "0           0             0               0              59       1.0   \n",
       "1           1             1               1              39       1.0   \n",
       "2           2             2               2             130       1.0   \n",
       "3           3             3               3              42       1.0   \n",
       "4           4             4               4             102       1.0   \n",
       "\n",
       "                           PG :                      UG :     experience  \\\n",
       "0  Post Graduation Not Required              Any Graduate    2 - 5 years   \n",
       "1  Post Graduation Not Required  B.Tech/B.E. in Computers    4 - 6 years   \n",
       "2  Post Graduation Not Required  B.Tech/B.E. in Computers   5 - 10 years   \n",
       "3  Post Graduation Not Required  B.Tech/B.E. in Computers  10 - 15 years   \n",
       "4  Post Graduation Not Required  B.Tech/B.E. in Computers    3 - 8 years   \n",
       "\n",
       "                                            job_desc  \\\n",
       "0   charter accountancy cpa cima mba cfa post qua...   \n",
       "1   role responsibility high-quality virtual in-p...   \n",
       "2   role responsibility actively team data soluti...   \n",
       "3   principle architect communicator architecture...   \n",
       "4   3-8 dashboard report design development power...   \n",
       "\n",
       "                                          key_skills  \\\n",
       "0  ['Assurance', 'Business transformation', 'Fixe...   \n",
       "1  ['Hibernate', 'Core Java', 'Front End', 'Oracl...   \n",
       "2  ['Computer science', 'Data analysis', 'Analyti...   \n",
       "3  ['Linux', 'Coding', 'Project management', 'Ana...   \n",
       "4  ['tableau', 'Reporting Analyst', 'SQL database...   \n",
       "\n",
       "                               position         salary Doctorate :  \n",
       "0            PPM041 - AM-Internal Audit  Not Disclosed         NaN  \n",
       "1             Java Full Stack Developer  Not Disclosed         NaN  \n",
       "2                    Sr. Data Scientist  Not Disclosed         NaN  \n",
       "3                   Principle Architect  Not Disclosed         NaN  \n",
       "4  Industry Consulting Prin. Consultant  Not Disclosed         NaN  "
      ]
     },
     "execution_count": 5,
     "metadata": {},
     "output_type": "execute_result"
    }
   ],
   "source": [
    "df.head()"
   ]
  },
  {
   "cell_type": "code",
   "execution_count": 6,
   "metadata": {},
   "outputs": [
    {
     "data": {
      "text/plain": [
       "' role responsibility high-quality virtual in-person line industry-recognized java stack stack tech git hub well deploy java stack aws azure develop retain up-to-date design self-paced record session above-mentioned professional corporates course monitor evaluation participant assessment report every high-quality material candidate mentor instructors/team leaders/subject expert content course delivery technique assign course maintain course content throughout course minimum oracle sql pl/sql java j2ee servlets jsp jdbc maven hibernate spring [ mvc orm ] spring boot microservices webservices [ soap rest ] junit mongo db git hub migrate java stack aws azure front end technology html cs javascript angular react verbal write communication organizational time-management data uncover insight consumer mindset build deliver educational design virtualized network lab environment administrate lm system report author exam self-assessment survey rolesoftware developer typerecruitment areait software program maintenance employment design pg post graduation hibernatecore javafront endoracle sqljspjavascriptspring bootj2eetechnical'"
      ]
     },
     "execution_count": 6,
     "metadata": {},
     "output_type": "execute_result"
    }
   ],
   "source": [
    "df.job_desc[1]"
   ]
  },
  {
   "cell_type": "code",
   "execution_count": 14,
   "metadata": {},
   "outputs": [
    {
     "name": "stdout",
     "output_type": "stream",
     "text": [
      "['useless words.txt', 'prathamesh.txt', 'nikita.txt', 'uselessWordsRemoval.ipynb']\n"
     ]
    }
   ],
   "source": [
    "import os \n",
    "print(os.listdir())\n",
    "useless_words = open('useless words.txt' , 'r')"
   ]
  },
  {
   "cell_type": "code",
   "execution_count": 15,
   "metadata": {},
   "outputs": [
    {
     "name": "stdout",
     "output_type": "stream",
     "text": [
      "562\n"
     ]
    }
   ],
   "source": [
    "useless_words = useless_words.read().splitlines()\n",
    "useless_words = [word.lower().strip(' ') for word in useless_words]\n",
    "useless_words = set(useless_words)\n",
    "\n",
    "print(len(useless_words))\n"
   ]
  },
  {
   "cell_type": "code",
   "execution_count": 16,
   "metadata": {},
   "outputs": [
    {
     "name": "stderr",
     "output_type": "stream",
     "text": [
      "100%|██████████| 24550/24550 [00:14<00:00, 1714.94it/s]\n"
     ]
    },
    {
     "data": {
      "text/html": [
       "<div>\n",
       "<style scoped>\n",
       "    .dataframe tbody tr th:only-of-type {\n",
       "        vertical-align: middle;\n",
       "    }\n",
       "\n",
       "    .dataframe tbody tr th {\n",
       "        vertical-align: top;\n",
       "    }\n",
       "\n",
       "    .dataframe thead th {\n",
       "        text-align: right;\n",
       "    }\n",
       "</style>\n",
       "<table border=\"1\" class=\"dataframe\">\n",
       "  <thead>\n",
       "    <tr style=\"text-align: right;\">\n",
       "      <th></th>\n",
       "      <th>Unnamed: 0</th>\n",
       "      <th>Unnamed: 0.1</th>\n",
       "      <th>Unnamed: 0.1.1</th>\n",
       "      <th>Job Applicants:</th>\n",
       "      <th>Openings:</th>\n",
       "      <th>PG :</th>\n",
       "      <th>UG :</th>\n",
       "      <th>experience</th>\n",
       "      <th>job_desc</th>\n",
       "      <th>key_skills</th>\n",
       "      <th>position</th>\n",
       "      <th>salary</th>\n",
       "      <th>Doctorate :</th>\n",
       "    </tr>\n",
       "  </thead>\n",
       "  <tbody>\n",
       "    <tr>\n",
       "      <th>0</th>\n",
       "      <td>0</td>\n",
       "      <td>0</td>\n",
       "      <td>0</td>\n",
       "      <td>59</td>\n",
       "      <td>1.0</td>\n",
       "      <td>Post Graduation Not Required</td>\n",
       "      <td>Any Graduate</td>\n",
       "      <td>2 - 5 years</td>\n",
       "      <td>charter accountancy cpa cima mba cfa qualific...</td>\n",
       "      <td>['Assurance', 'Business transformation', 'Fixe...</td>\n",
       "      <td>PPM041 - AM-Internal Audit</td>\n",
       "      <td>Not Disclosed</td>\n",
       "      <td>NaN</td>\n",
       "    </tr>\n",
       "    <tr>\n",
       "      <th>1</th>\n",
       "      <td>1</td>\n",
       "      <td>1</td>\n",
       "      <td>1</td>\n",
       "      <td>39</td>\n",
       "      <td>1.0</td>\n",
       "      <td>Post Graduation Not Required</td>\n",
       "      <td>B.Tech/B.E. in Computers</td>\n",
       "      <td>4 - 6 years</td>\n",
       "      <td>responsibility high-quality virtual in-person...</td>\n",
       "      <td>['Hibernate', 'Core Java', 'Front End', 'Oracl...</td>\n",
       "      <td>Java Full Stack Developer</td>\n",
       "      <td>Not Disclosed</td>\n",
       "      <td>NaN</td>\n",
       "    </tr>\n",
       "    <tr>\n",
       "      <th>2</th>\n",
       "      <td>2</td>\n",
       "      <td>2</td>\n",
       "      <td>2</td>\n",
       "      <td>130</td>\n",
       "      <td>1.0</td>\n",
       "      <td>Post Graduation Not Required</td>\n",
       "      <td>B.Tech/B.E. in Computers</td>\n",
       "      <td>5 - 10 years</td>\n",
       "      <td>responsibility actively data data-intensive p...</td>\n",
       "      <td>['Computer science', 'Data analysis', 'Analyti...</td>\n",
       "      <td>Sr. Data Scientist</td>\n",
       "      <td>Not Disclosed</td>\n",
       "      <td>NaN</td>\n",
       "    </tr>\n",
       "    <tr>\n",
       "      <th>3</th>\n",
       "      <td>3</td>\n",
       "      <td>3</td>\n",
       "      <td>3</td>\n",
       "      <td>42</td>\n",
       "      <td>1.0</td>\n",
       "      <td>Post Graduation Not Required</td>\n",
       "      <td>B.Tech/B.E. in Computers</td>\n",
       "      <td>10 - 15 years</td>\n",
       "      <td>principle architect communicator architecture...</td>\n",
       "      <td>['Linux', 'Coding', 'Project management', 'Ana...</td>\n",
       "      <td>Principle Architect</td>\n",
       "      <td>Not Disclosed</td>\n",
       "      <td>NaN</td>\n",
       "    </tr>\n",
       "    <tr>\n",
       "      <th>4</th>\n",
       "      <td>4</td>\n",
       "      <td>4</td>\n",
       "      <td>4</td>\n",
       "      <td>102</td>\n",
       "      <td>1.0</td>\n",
       "      <td>Post Graduation Not Required</td>\n",
       "      <td>B.Tech/B.E. in Computers</td>\n",
       "      <td>3 - 8 years</td>\n",
       "      <td>3-8 dashboard report power bi tableau 3-8 exp...</td>\n",
       "      <td>['tableau', 'Reporting Analyst', 'SQL database...</td>\n",
       "      <td>Industry Consulting Prin. Consultant</td>\n",
       "      <td>Not Disclosed</td>\n",
       "      <td>NaN</td>\n",
       "    </tr>\n",
       "  </tbody>\n",
       "</table>\n",
       "</div>"
      ],
      "text/plain": [
       "   Unnamed: 0  Unnamed: 0.1  Unnamed: 0.1.1 Job Applicants: Openings:  \\\n",
       "0           0             0               0              59       1.0   \n",
       "1           1             1               1              39       1.0   \n",
       "2           2             2               2             130       1.0   \n",
       "3           3             3               3              42       1.0   \n",
       "4           4             4               4             102       1.0   \n",
       "\n",
       "                           PG :                      UG :     experience  \\\n",
       "0  Post Graduation Not Required              Any Graduate    2 - 5 years   \n",
       "1  Post Graduation Not Required  B.Tech/B.E. in Computers    4 - 6 years   \n",
       "2  Post Graduation Not Required  B.Tech/B.E. in Computers   5 - 10 years   \n",
       "3  Post Graduation Not Required  B.Tech/B.E. in Computers  10 - 15 years   \n",
       "4  Post Graduation Not Required  B.Tech/B.E. in Computers    3 - 8 years   \n",
       "\n",
       "                                            job_desc  \\\n",
       "0   charter accountancy cpa cima mba cfa qualific...   \n",
       "1   responsibility high-quality virtual in-person...   \n",
       "2   responsibility actively data data-intensive p...   \n",
       "3   principle architect communicator architecture...   \n",
       "4   3-8 dashboard report power bi tableau 3-8 exp...   \n",
       "\n",
       "                                          key_skills  \\\n",
       "0  ['Assurance', 'Business transformation', 'Fixe...   \n",
       "1  ['Hibernate', 'Core Java', 'Front End', 'Oracl...   \n",
       "2  ['Computer science', 'Data analysis', 'Analyti...   \n",
       "3  ['Linux', 'Coding', 'Project management', 'Ana...   \n",
       "4  ['tableau', 'Reporting Analyst', 'SQL database...   \n",
       "\n",
       "                               position         salary Doctorate :  \n",
       "0            PPM041 - AM-Internal Audit  Not Disclosed         NaN  \n",
       "1             Java Full Stack Developer  Not Disclosed         NaN  \n",
       "2                    Sr. Data Scientist  Not Disclosed         NaN  \n",
       "3                   Principle Architect  Not Disclosed         NaN  \n",
       "4  Industry Consulting Prin. Consultant  Not Disclosed         NaN  "
      ]
     },
     "execution_count": 16,
     "metadata": {},
     "output_type": "execute_result"
    }
   ],
   "source": [
    "import nltk \n",
    "from tqdm import tqdm\n",
    "from nltk.tokenize import word_tokenize\n",
    "\n",
    "removed_words = 0\n",
    "total_words = 0 \n",
    "\n",
    "for i in tqdm(range(df['job_desc'].shape[0])):\n",
    "    curr = word_tokenize(df['job_desc'].values[i])\n",
    "    t_words = \"\"\n",
    "\n",
    "    for each in curr: \n",
    "        if each not in useless_words:\n",
    "            t_words = t_words + ' ' + each \n",
    "        else:\n",
    "            removed_words+=1 \n",
    "        total_words +=1\n",
    "    df['job_desc'].values[i] = t_words\n",
    "\n",
    "df.head()\n",
    "\n",
    "        "
   ]
  },
  {
   "cell_type": "code",
   "execution_count": 17,
   "metadata": {},
   "outputs": [
    {
     "name": "stdout",
     "output_type": "stream",
     "text": [
      "Total words are 2446856\n",
      "Total words removed 464184\n",
      "Percentage of words removed 18.97063006568429\n"
     ]
    }
   ],
   "source": [
    "print(f'Total words are {total_words}')\n",
    "print(f'Total words removed {removed_words}')\n",
    "print(f'Percentage of words removed {(removed_words/total_words)*100}')"
   ]
  },
  {
   "cell_type": "code",
   "execution_count": 18,
   "metadata": {},
   "outputs": [],
   "source": [
    "df.to_csv('../dataset/CSV/dataset.csv' , sep='|')\n",
    "df.to_excel('../dataset/Excel/dataset_excel.xlsx' , engine = 'xlsxwriter')"
   ]
  },
  {
   "cell_type": "code",
   "execution_count": null,
   "metadata": {},
   "outputs": [],
   "source": []
  }
 ],
 "metadata": {
  "interpreter": {
   "hash": "31f2aee4e71d21fbe5cf8b01ff0e069b9275f58929596ceb00d14d90e3e16cd6"
  },
  "kernelspec": {
   "display_name": "Python 3.8.10 64-bit",
   "language": "python",
   "name": "python3"
  },
  "language_info": {
   "codemirror_mode": {
    "name": "ipython",
    "version": 3
   },
   "file_extension": ".py",
   "mimetype": "text/x-python",
   "name": "python",
   "nbconvert_exporter": "python",
   "pygments_lexer": "ipython3",
   "version": "3.8.10"
  },
  "orig_nbformat": 4
 },
 "nbformat": 4,
 "nbformat_minor": 2
}
