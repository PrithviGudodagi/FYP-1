{
 "cells": [
  {
   "cell_type": "code",
   "execution_count": 1,
   "metadata": {},
   "outputs": [],
   "source": [
    "import pandas as pd\n",
    "\n"
   ]
  },
  {
   "cell_type": "code",
   "execution_count": 2,
   "metadata": {},
   "outputs": [],
   "source": [
    "df = pd.read_csv('../dataset.csv' , sep = '|')"
   ]
  },
  {
   "cell_type": "code",
   "execution_count": 3,
   "metadata": {},
   "outputs": [
    {
     "data": {
      "text/html": [
       "<div>\n",
       "<style scoped>\n",
       "    .dataframe tbody tr th:only-of-type {\n",
       "        vertical-align: middle;\n",
       "    }\n",
       "\n",
       "    .dataframe tbody tr th {\n",
       "        vertical-align: top;\n",
       "    }\n",
       "\n",
       "    .dataframe thead th {\n",
       "        text-align: right;\n",
       "    }\n",
       "</style>\n",
       "<table border=\"1\" class=\"dataframe\">\n",
       "  <thead>\n",
       "    <tr style=\"text-align: right;\">\n",
       "      <th></th>\n",
       "      <th>Unnamed: 0</th>\n",
       "      <th>Job Applicants:</th>\n",
       "      <th>Openings:</th>\n",
       "      <th>PG :</th>\n",
       "      <th>UG :</th>\n",
       "      <th>experience</th>\n",
       "      <th>job_desc</th>\n",
       "      <th>key_skills</th>\n",
       "      <th>position</th>\n",
       "      <th>salary</th>\n",
       "      <th>Doctorate :</th>\n",
       "    </tr>\n",
       "  </thead>\n",
       "  <tbody>\n",
       "    <tr>\n",
       "      <th>0</th>\n",
       "      <td>0</td>\n",
       "      <td>59</td>\n",
       "      <td>1.0</td>\n",
       "      <td>Post Graduation Not Required</td>\n",
       "      <td>Any Graduate</td>\n",
       "      <td>2 - 5 years</td>\n",
       "      <td>job description technical skills chartered ac...</td>\n",
       "      <td>['Assurance', 'Business transformation', 'Fixe...</td>\n",
       "      <td>PPM041 - AM-Internal Audit</td>\n",
       "      <td>Not Disclosed</td>\n",
       "      <td>NaN</td>\n",
       "    </tr>\n",
       "    <tr>\n",
       "      <th>1</th>\n",
       "      <td>1</td>\n",
       "      <td>39</td>\n",
       "      <td>1.0</td>\n",
       "      <td>Post Graduation Not Required</td>\n",
       "      <td>B.Tech/B.E. in Computers</td>\n",
       "      <td>4 - 6 years</td>\n",
       "      <td>job description roles responsibility deliver ...</td>\n",
       "      <td>['Hibernate', 'Core Java', 'Front End', 'Oracl...</td>\n",
       "      <td>Java Full Stack Developer</td>\n",
       "      <td>Not Disclosed</td>\n",
       "      <td>NaN</td>\n",
       "    </tr>\n",
       "    <tr>\n",
       "      <th>2</th>\n",
       "      <td>2</td>\n",
       "      <td>130</td>\n",
       "      <td>1.0</td>\n",
       "      <td>Post Graduation Not Required</td>\n",
       "      <td>B.Tech/B.E. in Computers</td>\n",
       "      <td>5 - 10 years</td>\n",
       "      <td>job description roles responsibility actively...</td>\n",
       "      <td>['Computer science', 'Data analysis', 'Analyti...</td>\n",
       "      <td>Sr. Data Scientist</td>\n",
       "      <td>Not Disclosed</td>\n",
       "      <td>NaN</td>\n",
       "    </tr>\n",
       "    <tr>\n",
       "      <th>3</th>\n",
       "      <td>3</td>\n",
       "      <td>42</td>\n",
       "      <td>1.0</td>\n",
       "      <td>Post Graduation Not Required</td>\n",
       "      <td>B.Tech/B.E. in Computers</td>\n",
       "      <td>10 - 15 years</td>\n",
       "      <td>job description role purpose principle archit...</td>\n",
       "      <td>['Linux', 'Coding', 'Project management', 'Ana...</td>\n",
       "      <td>Principle Architect</td>\n",
       "      <td>Not Disclosed</td>\n",
       "      <td>NaN</td>\n",
       "    </tr>\n",
       "    <tr>\n",
       "      <th>4</th>\n",
       "      <td>4</td>\n",
       "      <td>102</td>\n",
       "      <td>1.0</td>\n",
       "      <td>Post Graduation Not Required</td>\n",
       "      <td>B.Tech/B.E. in Computers</td>\n",
       "      <td>3 - 8 years</td>\n",
       "      <td>job description 3-8 years experience dashboar...</td>\n",
       "      <td>['tableau', 'Reporting Analyst', 'SQL database...</td>\n",
       "      <td>Industry Consulting Prin. Consultant</td>\n",
       "      <td>Not Disclosed</td>\n",
       "      <td>NaN</td>\n",
       "    </tr>\n",
       "  </tbody>\n",
       "</table>\n",
       "</div>"
      ],
      "text/plain": [
       "   Unnamed: 0 Job Applicants: Openings:                          PG :  \\\n",
       "0           0              59       1.0  Post Graduation Not Required   \n",
       "1           1              39       1.0  Post Graduation Not Required   \n",
       "2           2             130       1.0  Post Graduation Not Required   \n",
       "3           3              42       1.0  Post Graduation Not Required   \n",
       "4           4             102       1.0  Post Graduation Not Required   \n",
       "\n",
       "                       UG :     experience  \\\n",
       "0              Any Graduate    2 - 5 years   \n",
       "1  B.Tech/B.E. in Computers    4 - 6 years   \n",
       "2  B.Tech/B.E. in Computers   5 - 10 years   \n",
       "3  B.Tech/B.E. in Computers  10 - 15 years   \n",
       "4  B.Tech/B.E. in Computers    3 - 8 years   \n",
       "\n",
       "                                            job_desc  \\\n",
       "0   job description technical skills chartered ac...   \n",
       "1   job description roles responsibility deliver ...   \n",
       "2   job description roles responsibility actively...   \n",
       "3   job description role purpose principle archit...   \n",
       "4   job description 3-8 years experience dashboar...   \n",
       "\n",
       "                                          key_skills  \\\n",
       "0  ['Assurance', 'Business transformation', 'Fixe...   \n",
       "1  ['Hibernate', 'Core Java', 'Front End', 'Oracl...   \n",
       "2  ['Computer science', 'Data analysis', 'Analyti...   \n",
       "3  ['Linux', 'Coding', 'Project management', 'Ana...   \n",
       "4  ['tableau', 'Reporting Analyst', 'SQL database...   \n",
       "\n",
       "                               position         salary Doctorate :  \n",
       "0            PPM041 - AM-Internal Audit  Not Disclosed         NaN  \n",
       "1             Java Full Stack Developer  Not Disclosed         NaN  \n",
       "2                    Sr. Data Scientist  Not Disclosed         NaN  \n",
       "3                   Principle Architect  Not Disclosed         NaN  \n",
       "4  Industry Consulting Prin. Consultant  Not Disclosed         NaN  "
      ]
     },
     "execution_count": 3,
     "metadata": {},
     "output_type": "execute_result"
    }
   ],
   "source": [
    "df.head()"
   ]
  },
  {
   "cell_type": "code",
   "execution_count": 4,
   "metadata": {},
   "outputs": [
    {
     "data": {
      "text/plain": [
       "' job description roles responsibility deliver high-quality virtual in-person technical training line industry-recognized best practices java full stack must industry experience full stack tech must good knowledge working experience git hub well deploying java full stack application aws azure develop retain up-to-date knowledge current working practices design quality self-paced recorded training sessions above-mentioned topics working professionals corporates carry course monitoring evaluation collating participants training assessment report every fortnight create high-quality training materials candidates mentor instructors/team leaders/subject matter experts content course delivery techniques assigned technical courses maintain quality consistency course content throughout course life cycle skills experience minimum years hands-on experience oracle sql pl/sql core java j2ee servlets jsp jdbc maven hibernate spring [ core mvc orm ] spring boot microservices webservices [ soap rest ] junit mongo db git hub migrating java full stack application aws azure hands experience front end technologies html css javascript angular react excellent verbal written communication skills excellent organizational time-management abilities ability work data uncover insights consumer mindset experience building delivering educational resources including designing virtualized network training lab environments administrating lms systems reporting authoring exams self-assessment surveys rolesoftware developer industry typerecruitment staffing functional areait software application programming maintenance employment typefull time permanent role categoryprogramming design education ug b.tech/b.e computers pg post graduation required key skills hibernatecore javafront endoracle sqljspjavascriptspring bootj2eetechnical training'"
      ]
     },
     "execution_count": 4,
     "metadata": {},
     "output_type": "execute_result"
    }
   ],
   "source": [
    "df.job_desc[1]"
   ]
  },
  {
   "cell_type": "code",
   "execution_count": 5,
   "metadata": {},
   "outputs": [
    {
     "name": "stdout",
     "output_type": "stream",
     "text": [
      "['useless words.txt', 'prathamesh.txt', 'nikita.txt', 'useless_words.txt', 'uselessWordsRemoval.ipynb']\n"
     ]
    }
   ],
   "source": [
    "import os \n",
    "print(os.listdir())\n",
    "useless_words = open('useless_words.txt' , 'r')"
   ]
  },
  {
   "cell_type": "code",
   "execution_count": 6,
   "metadata": {},
   "outputs": [
    {
     "name": "stdout",
     "output_type": "stream",
     "text": [
      "543\n"
     ]
    }
   ],
   "source": [
    "useless_words = useless_words.read().splitlines()\n",
    "useless_words = [word.lower().strip(' ') for word in useless_words]\n",
    "useless_words = set(useless_words)\n",
    "\n",
    "print(len(useless_words))"
   ]
  },
  {
   "cell_type": "code",
   "execution_count": 7,
   "metadata": {},
   "outputs": [
    {
     "name": "stderr",
     "output_type": "stream",
     "text": [
      "100%|██████████| 24550/24550 [00:20<00:00, 1170.90it/s]\n"
     ]
    },
    {
     "data": {
      "text/html": [
       "<div>\n",
       "<style scoped>\n",
       "    .dataframe tbody tr th:only-of-type {\n",
       "        vertical-align: middle;\n",
       "    }\n",
       "\n",
       "    .dataframe tbody tr th {\n",
       "        vertical-align: top;\n",
       "    }\n",
       "\n",
       "    .dataframe thead th {\n",
       "        text-align: right;\n",
       "    }\n",
       "</style>\n",
       "<table border=\"1\" class=\"dataframe\">\n",
       "  <thead>\n",
       "    <tr style=\"text-align: right;\">\n",
       "      <th></th>\n",
       "      <th>Unnamed: 0</th>\n",
       "      <th>Job Applicants:</th>\n",
       "      <th>Openings:</th>\n",
       "      <th>PG :</th>\n",
       "      <th>UG :</th>\n",
       "      <th>experience</th>\n",
       "      <th>job_desc</th>\n",
       "      <th>key_skills</th>\n",
       "      <th>position</th>\n",
       "      <th>salary</th>\n",
       "      <th>Doctorate :</th>\n",
       "    </tr>\n",
       "  </thead>\n",
       "  <tbody>\n",
       "    <tr>\n",
       "      <th>0</th>\n",
       "      <td>0</td>\n",
       "      <td>59</td>\n",
       "      <td>1.0</td>\n",
       "      <td>Post Graduation Not Required</td>\n",
       "      <td>Any Graduate</td>\n",
       "      <td>2 - 5 years</td>\n",
       "      <td>chartered accountancy cpa cima mba cfa post q...</td>\n",
       "      <td>['Assurance', 'Business transformation', 'Fixe...</td>\n",
       "      <td>PPM041 - AM-Internal Audit</td>\n",
       "      <td>Not Disclosed</td>\n",
       "      <td>NaN</td>\n",
       "    </tr>\n",
       "    <tr>\n",
       "      <th>1</th>\n",
       "      <td>1</td>\n",
       "      <td>39</td>\n",
       "      <td>1.0</td>\n",
       "      <td>Post Graduation Not Required</td>\n",
       "      <td>B.Tech/B.E. in Computers</td>\n",
       "      <td>4 - 6 years</td>\n",
       "      <td>roles responsibility high-quality virtual in-...</td>\n",
       "      <td>['Hibernate', 'Core Java', 'Front End', 'Oracl...</td>\n",
       "      <td>Java Full Stack Developer</td>\n",
       "      <td>Not Disclosed</td>\n",
       "      <td>NaN</td>\n",
       "    </tr>\n",
       "    <tr>\n",
       "      <th>2</th>\n",
       "      <td>2</td>\n",
       "      <td>130</td>\n",
       "      <td>1.0</td>\n",
       "      <td>Post Graduation Not Required</td>\n",
       "      <td>B.Tech/B.E. in Computers</td>\n",
       "      <td>5 - 10 years</td>\n",
       "      <td>roles responsibility actively teams data solu...</td>\n",
       "      <td>['Computer science', 'Data analysis', 'Analyti...</td>\n",
       "      <td>Sr. Data Scientist</td>\n",
       "      <td>Not Disclosed</td>\n",
       "      <td>NaN</td>\n",
       "    </tr>\n",
       "    <tr>\n",
       "      <th>3</th>\n",
       "      <td>3</td>\n",
       "      <td>42</td>\n",
       "      <td>1.0</td>\n",
       "      <td>Post Graduation Not Required</td>\n",
       "      <td>B.Tech/B.E. in Computers</td>\n",
       "      <td>10 - 15 years</td>\n",
       "      <td>principle architect communicator architecture...</td>\n",
       "      <td>['Linux', 'Coding', 'Project management', 'Ana...</td>\n",
       "      <td>Principle Architect</td>\n",
       "      <td>Not Disclosed</td>\n",
       "      <td>NaN</td>\n",
       "    </tr>\n",
       "    <tr>\n",
       "      <th>4</th>\n",
       "      <td>4</td>\n",
       "      <td>102</td>\n",
       "      <td>1.0</td>\n",
       "      <td>Post Graduation Not Required</td>\n",
       "      <td>B.Tech/B.E. in Computers</td>\n",
       "      <td>3 - 8 years</td>\n",
       "      <td>3-8 dashboard report design development power...</td>\n",
       "      <td>['tableau', 'Reporting Analyst', 'SQL database...</td>\n",
       "      <td>Industry Consulting Prin. Consultant</td>\n",
       "      <td>Not Disclosed</td>\n",
       "      <td>NaN</td>\n",
       "    </tr>\n",
       "  </tbody>\n",
       "</table>\n",
       "</div>"
      ],
      "text/plain": [
       "   Unnamed: 0 Job Applicants: Openings:                          PG :  \\\n",
       "0           0              59       1.0  Post Graduation Not Required   \n",
       "1           1              39       1.0  Post Graduation Not Required   \n",
       "2           2             130       1.0  Post Graduation Not Required   \n",
       "3           3              42       1.0  Post Graduation Not Required   \n",
       "4           4             102       1.0  Post Graduation Not Required   \n",
       "\n",
       "                       UG :     experience  \\\n",
       "0              Any Graduate    2 - 5 years   \n",
       "1  B.Tech/B.E. in Computers    4 - 6 years   \n",
       "2  B.Tech/B.E. in Computers   5 - 10 years   \n",
       "3  B.Tech/B.E. in Computers  10 - 15 years   \n",
       "4  B.Tech/B.E. in Computers    3 - 8 years   \n",
       "\n",
       "                                            job_desc  \\\n",
       "0   chartered accountancy cpa cima mba cfa post q...   \n",
       "1   roles responsibility high-quality virtual in-...   \n",
       "2   roles responsibility actively teams data solu...   \n",
       "3   principle architect communicator architecture...   \n",
       "4   3-8 dashboard report design development power...   \n",
       "\n",
       "                                          key_skills  \\\n",
       "0  ['Assurance', 'Business transformation', 'Fixe...   \n",
       "1  ['Hibernate', 'Core Java', 'Front End', 'Oracl...   \n",
       "2  ['Computer science', 'Data analysis', 'Analyti...   \n",
       "3  ['Linux', 'Coding', 'Project management', 'Ana...   \n",
       "4  ['tableau', 'Reporting Analyst', 'SQL database...   \n",
       "\n",
       "                               position         salary Doctorate :  \n",
       "0            PPM041 - AM-Internal Audit  Not Disclosed         NaN  \n",
       "1             Java Full Stack Developer  Not Disclosed         NaN  \n",
       "2                    Sr. Data Scientist  Not Disclosed         NaN  \n",
       "3                   Principle Architect  Not Disclosed         NaN  \n",
       "4  Industry Consulting Prin. Consultant  Not Disclosed         NaN  "
      ]
     },
     "execution_count": 7,
     "metadata": {},
     "output_type": "execute_result"
    }
   ],
   "source": [
    "import nltk \n",
    "from tqdm import tqdm\n",
    "from nltk.tokenize import word_tokenize\n",
    "\n",
    "removed_words = 0\n",
    "total_words = 0 \n",
    "\n",
    "for i in tqdm(range(df['job_desc'].shape[0])):\n",
    "    curr = word_tokenize(df['job_desc'].values[i])\n",
    "    t_words = \"\"\n",
    "\n",
    "    for each in curr: \n",
    "        if each not in useless_words:\n",
    "            t_words = t_words + ' ' + each \n",
    "        else:\n",
    "            removed_words+=1 \n",
    "        total_words +=1\n",
    "    df['job_desc'].values[i] = t_words\n",
    "\n",
    "df.head()\n",
    "\n",
    "        "
   ]
  },
  {
   "cell_type": "code",
   "execution_count": 9,
   "metadata": {},
   "outputs": [
    {
     "name": "stdout",
     "output_type": "stream",
     "text": [
      "Total words are 3864528\n",
      "Total words removed 1417925\n",
      "Percentage of words removed 36.69076792819201\n"
     ]
    }
   ],
   "source": [
    "print(f'Total words are {total_words}')\n",
    "print(f'Total words removed {removed_words}')\n",
    "print(f'Percentage of words removed {(removed_words/total_words)*100}')"
   ]
  },
  {
   "cell_type": "code",
   "execution_count": 10,
   "metadata": {},
   "outputs": [],
   "source": [
    "df.to_csv('dataset.csv' , sep='|')\n",
    "df.to_excel('dataset_excel.xlsx' , engine = 'xlsxwriter')"
   ]
  },
  {
   "cell_type": "code",
   "execution_count": null,
   "metadata": {},
   "outputs": [],
   "source": []
  }
 ],
 "metadata": {
  "interpreter": {
   "hash": "31f2aee4e71d21fbe5cf8b01ff0e069b9275f58929596ceb00d14d90e3e16cd6"
  },
  "kernelspec": {
   "display_name": "Python 3.8.10 64-bit",
   "language": "python",
   "name": "python3"
  },
  "language_info": {
   "codemirror_mode": {
    "name": "ipython",
    "version": 3
   },
   "file_extension": ".py",
   "mimetype": "text/x-python",
   "name": "python",
   "nbconvert_exporter": "python",
   "pygments_lexer": "ipython3",
   "version": "3.8.10"
  },
  "orig_nbformat": 4
 },
 "nbformat": 4,
 "nbformat_minor": 2
}
