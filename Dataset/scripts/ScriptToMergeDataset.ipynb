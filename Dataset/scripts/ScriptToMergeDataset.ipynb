{
 "cells": [
  {
   "cell_type": "code",
   "execution_count": 3,
   "metadata": {},
   "outputs": [],
   "source": [
    "import pandas as pd\n",
    "import glob"
   ]
  },
  {
   "cell_type": "code",
   "execution_count": 2,
   "metadata": {},
   "outputs": [
    {
     "name": "stdout",
     "output_type": "stream",
     "text": [
      "['./csv_files/3508153662.csv', './csv_files/2028054341.csv', './csv_files/00004.csv', './csv_files/3602107603.csv', './csv_files/3726298824.csv', './csv_files/1203654458.csv', './csv_files/3815991990.csv', './csv_files/7567441.csv', './csv_files/00005.csv', './csv_files/Dataset2.csv', './csv_files/00001.csv', './csv_files/3722881981.csv', './csv_files/3449474271.csv', './csv_files/00003.csv', './csv_files/Dataset1.csv', './csv_files/Sumedha1.csv', './csv_files/864405729.csv', './csv_files/3119164873.csv', './csv_files/00002.csv', './csv_files/Sumedha2.csv', './csv_files/3658686332.csv', './csv_files/2519810956.csv']\n"
     ]
    }
   ],
   "source": [
    "all_files = glob.glob('./csv_files/*.csv')\n",
    "print(all_files)"
   ]
  },
  {
   "cell_type": "code",
   "execution_count": 7,
   "metadata": {},
   "outputs": [
    {
     "name": "stdout",
     "output_type": "stream",
     "text": [
      "0\n",
      "1\n",
      "2\n",
      "3\n",
      "4\n",
      "5\n",
      "6\n",
      "7\n",
      "8\n",
      "9\n",
      "10\n",
      "11\n",
      "12\n",
      "13\n",
      "14\n",
      "15\n",
      "16\n",
      "17\n",
      "18\n",
      "19\n",
      "20\n",
      "21\n"
     ]
    }
   ],
   "source": [
    "file_dfs = []\n",
    "\n",
    "for i,file in enumerate(all_files):\n",
    "    try:\n",
    "        df = pd.read_csv(file , sep = '|')\n",
    "        print(i)\n",
    "        file_dfs.append(df)\n",
    "    except:\n",
    "        df = pd.read_csv(file)\n",
    "        print(i)\n",
    "        "
   ]
  },
  {
   "cell_type": "code",
   "execution_count": 9,
   "metadata": {},
   "outputs": [],
   "source": [
    "df = pd.concat(file_dfs , axis = 0 , ignore_index=True)"
   ]
  },
  {
   "cell_type": "code",
   "execution_count": 15,
   "metadata": {},
   "outputs": [],
   "source": [
    "df.to_csv('dataset.csv', sep = '|')"
   ]
  },
  {
   "cell_type": "code",
   "execution_count": null,
   "metadata": {},
   "outputs": [],
   "source": []
  }
 ],
 "metadata": {
  "interpreter": {
   "hash": "31f2aee4e71d21fbe5cf8b01ff0e069b9275f58929596ceb00d14d90e3e16cd6"
  },
  "kernelspec": {
   "display_name": "Python 3.8.10 64-bit",
   "language": "python",
   "name": "python3"
  },
  "language_info": {
   "codemirror_mode": {
    "name": "ipython",
    "version": 3
   },
   "file_extension": ".py",
   "mimetype": "text/x-python",
   "name": "python",
   "nbconvert_exporter": "python",
   "pygments_lexer": "ipython3",
   "version": "3.8.10"
  },
  "orig_nbformat": 4
 },
 "nbformat": 4,
 "nbformat_minor": 2
}
