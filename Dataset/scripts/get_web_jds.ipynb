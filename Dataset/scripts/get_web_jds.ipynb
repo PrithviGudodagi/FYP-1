{
 "cells": [
  {
   "cell_type": "markdown",
   "metadata": {},
   "source": [
    "First few cells are for creating the master dataset (i.e by merging all csv files collected) \n"
   ]
  },
  {
   "cell_type": "code",
   "execution_count": 22,
   "metadata": {},
   "outputs": [],
   "source": [
    "#imports\n",
    "\n",
    "import pandas as pd\n",
    "import glob\n",
    "from tqdm import tqdm"
   ]
  },
  {
   "cell_type": "code",
   "execution_count": 23,
   "metadata": {},
   "outputs": [
    {
     "name": "stdout",
     "output_type": "stream",
     "text": [
      "['../csv_files/3508153662.csv', '../csv_files/2028054341.csv', '../csv_files/00004.csv', '../csv_files/3602107603.csv', '../csv_files/3726298824.csv', '../csv_files/1203654458.csv', '../csv_files/3815991990.csv', '../csv_files/7567441.csv', '../csv_files/00005.csv', '../csv_files/Dataset2.csv', '../csv_files/00001.csv', '../csv_files/3722881981.csv', '../csv_files/3449474271.csv', '../csv_files/00003.csv', '../csv_files/Dataset1.csv', '../csv_files/Sumedha1.csv', '../csv_files/864405729.csv', '../csv_files/3119164873.csv', '../csv_files/00002.csv', '../csv_files/Sumedha2.csv', '../csv_files/3658686332.csv', '../csv_files/2519810956.csv']\n"
     ]
    }
   ],
   "source": [
    "#specifies all file names using glob liberary and prints their path\n",
    "\n",
    "all_files = glob.glob('../csv_files/*.csv')\n",
    "print(all_files)"
   ]
  },
  {
   "cell_type": "code",
   "execution_count": 24,
   "metadata": {},
   "outputs": [
    {
     "name": "stderr",
     "output_type": "stream",
     "text": [
      "22it [00:00, 24.13it/s]\n"
     ]
    }
   ],
   "source": [
    "#Reads all files and inserts them into a list. Also accounts for inconsistencies \n",
    "# in the saving of the dataset performed by the juniors during data collection.\n",
    "\n",
    "file_dfs = []\n",
    "\n",
    "for i,file in tqdm(enumerate(all_files)):\n",
    "    try:\n",
    "        df = pd.read_csv(file , sep = '|')\n",
    "        \n",
    "    except:\n",
    "        df = pd.read_csv(file)\n",
    "    file_dfs.append(df)\n",
    "\n",
    "        "
   ]
  },
  {
   "cell_type": "code",
   "execution_count": 25,
   "metadata": {},
   "outputs": [
    {
     "name": "stdout",
     "output_type": "stream",
     "text": [
      "52983\n"
     ]
    }
   ],
   "source": [
    "#Merge and print length of full dataset\n",
    "\n",
    "df = pd.concat(file_dfs , axis = 0 , ignore_index=True)\n",
    "print(len(df))"
   ]
  },
  {
   "cell_type": "markdown",
   "metadata": {},
   "source": [
    "The following cells are for processing and selecting the right records in terms of experience and job roles.\n",
    "First few cells deal with removal of useless columns\n",
    "\n"
   ]
  },
  {
   "cell_type": "code",
   "execution_count": 26,
   "metadata": {},
   "outputs": [
    {
     "data": {
      "text/html": [
       "<div>\n",
       "<style scoped>\n",
       "    .dataframe tbody tr th:only-of-type {\n",
       "        vertical-align: middle;\n",
       "    }\n",
       "\n",
       "    .dataframe tbody tr th {\n",
       "        vertical-align: top;\n",
       "    }\n",
       "\n",
       "    .dataframe thead th {\n",
       "        text-align: right;\n",
       "    }\n",
       "</style>\n",
       "<table border=\"1\" class=\"dataframe\">\n",
       "  <thead>\n",
       "    <tr style=\"text-align: right;\">\n",
       "      <th></th>\n",
       "      <th>Unnamed: 0</th>\n",
       "      <th>Job Applicants:</th>\n",
       "      <th>Openings:</th>\n",
       "      <th>PG :</th>\n",
       "      <th>Posted:</th>\n",
       "      <th>UG :</th>\n",
       "      <th>experience</th>\n",
       "      <th>job_desc</th>\n",
       "      <th>key_skills</th>\n",
       "      <th>position</th>\n",
       "      <th>salary</th>\n",
       "      <th>Doctorate :</th>\n",
       "    </tr>\n",
       "  </thead>\n",
       "  <tbody>\n",
       "    <tr>\n",
       "      <th>0</th>\n",
       "      <td>0</td>\n",
       "      <td>59</td>\n",
       "      <td>1.0</td>\n",
       "      <td>Post Graduation Not Required</td>\n",
       "      <td>30+ days ago</td>\n",
       "      <td>Any Graduate</td>\n",
       "      <td>2 - 5 years</td>\n",
       "      <td>Job description\\n  Technical Skills\\nChartered...</td>\n",
       "      <td>['Assurance', 'Business transformation', 'Fixe...</td>\n",
       "      <td>PPM041 - AM-Internal Audit</td>\n",
       "      <td>Not Disclosed</td>\n",
       "      <td>NaN</td>\n",
       "    </tr>\n",
       "    <tr>\n",
       "      <th>1</th>\n",
       "      <td>1</td>\n",
       "      <td>39</td>\n",
       "      <td>1.0</td>\n",
       "      <td>Post Graduation Not Required</td>\n",
       "      <td>30+ days ago</td>\n",
       "      <td>B.Tech/B.E. in Computers</td>\n",
       "      <td>4 - 6 years</td>\n",
       "      <td>Job description\\nRoles and Responsibility\\nDel...</td>\n",
       "      <td>['Hibernate', 'Core Java', 'Front End', 'Oracl...</td>\n",
       "      <td>Java Full Stack Developer</td>\n",
       "      <td>Not Disclosed</td>\n",
       "      <td>NaN</td>\n",
       "    </tr>\n",
       "    <tr>\n",
       "      <th>2</th>\n",
       "      <td>2</td>\n",
       "      <td>130</td>\n",
       "      <td>1.0</td>\n",
       "      <td>Post Graduation Not Required</td>\n",
       "      <td>30+ days ago</td>\n",
       "      <td>B.Tech/B.E. in Computers</td>\n",
       "      <td>5 - 10 years</td>\n",
       "      <td>Job description\\n.\\nRoles and Responsibility\\n...</td>\n",
       "      <td>['Computer science', 'Data analysis', 'Analyti...</td>\n",
       "      <td>Sr. Data Scientist</td>\n",
       "      <td>Not Disclosed</td>\n",
       "      <td>NaN</td>\n",
       "    </tr>\n",
       "    <tr>\n",
       "      <th>3</th>\n",
       "      <td>3</td>\n",
       "      <td>42</td>\n",
       "      <td>1.0</td>\n",
       "      <td>Post Graduation Not Required</td>\n",
       "      <td>30+ days ago</td>\n",
       "      <td>B.Tech/B.E. in Computers</td>\n",
       "      <td>10 - 15 years</td>\n",
       "      <td>Job description\\n\\n\\nRole purpose\\n\\nAs a Prin...</td>\n",
       "      <td>['Linux', 'Coding', 'Project management', 'Ana...</td>\n",
       "      <td>Principle Architect</td>\n",
       "      <td>Not Disclosed</td>\n",
       "      <td>NaN</td>\n",
       "    </tr>\n",
       "    <tr>\n",
       "      <th>4</th>\n",
       "      <td>4</td>\n",
       "      <td>102</td>\n",
       "      <td>1.0</td>\n",
       "      <td>Post Graduation Not Required</td>\n",
       "      <td>30+ days ago</td>\n",
       "      <td>B.Tech/B.E. in Computers</td>\n",
       "      <td>3 - 8 years</td>\n",
       "      <td>Job description\\n  3-8 years experience in das...</td>\n",
       "      <td>['tableau', 'Reporting Analyst', 'SQL database...</td>\n",
       "      <td>Industry Consulting Prin. Consultant</td>\n",
       "      <td>Not Disclosed</td>\n",
       "      <td>NaN</td>\n",
       "    </tr>\n",
       "  </tbody>\n",
       "</table>\n",
       "</div>"
      ],
      "text/plain": [
       "   Unnamed: 0 Job Applicants:  Openings:                          PG :  \\\n",
       "0           0              59        1.0  Post Graduation Not Required   \n",
       "1           1              39        1.0  Post Graduation Not Required   \n",
       "2           2             130        1.0  Post Graduation Not Required   \n",
       "3           3              42        1.0  Post Graduation Not Required   \n",
       "4           4             102        1.0  Post Graduation Not Required   \n",
       "\n",
       "        Posted:                      UG :     experience  \\\n",
       "0  30+ days ago              Any Graduate    2 - 5 years   \n",
       "1  30+ days ago  B.Tech/B.E. in Computers    4 - 6 years   \n",
       "2  30+ days ago  B.Tech/B.E. in Computers   5 - 10 years   \n",
       "3  30+ days ago  B.Tech/B.E. in Computers  10 - 15 years   \n",
       "4  30+ days ago  B.Tech/B.E. in Computers    3 - 8 years   \n",
       "\n",
       "                                            job_desc  \\\n",
       "0  Job description\\n  Technical Skills\\nChartered...   \n",
       "1  Job description\\nRoles and Responsibility\\nDel...   \n",
       "2  Job description\\n.\\nRoles and Responsibility\\n...   \n",
       "3  Job description\\n\\n\\nRole purpose\\n\\nAs a Prin...   \n",
       "4  Job description\\n  3-8 years experience in das...   \n",
       "\n",
       "                                          key_skills  \\\n",
       "0  ['Assurance', 'Business transformation', 'Fixe...   \n",
       "1  ['Hibernate', 'Core Java', 'Front End', 'Oracl...   \n",
       "2  ['Computer science', 'Data analysis', 'Analyti...   \n",
       "3  ['Linux', 'Coding', 'Project management', 'Ana...   \n",
       "4  ['tableau', 'Reporting Analyst', 'SQL database...   \n",
       "\n",
       "                               position         salary Doctorate :  \n",
       "0            PPM041 - AM-Internal Audit  Not Disclosed         NaN  \n",
       "1             Java Full Stack Developer  Not Disclosed         NaN  \n",
       "2                    Sr. Data Scientist  Not Disclosed         NaN  \n",
       "3                   Principle Architect  Not Disclosed         NaN  \n",
       "4  Industry Consulting Prin. Consultant  Not Disclosed         NaN  "
      ]
     },
     "execution_count": 26,
     "metadata": {},
     "output_type": "execute_result"
    }
   ],
   "source": [
    "df.head()"
   ]
  },
  {
   "cell_type": "code",
   "execution_count": 27,
   "metadata": {},
   "outputs": [
    {
     "data": {
      "text/html": [
       "<div>\n",
       "<style scoped>\n",
       "    .dataframe tbody tr th:only-of-type {\n",
       "        vertical-align: middle;\n",
       "    }\n",
       "\n",
       "    .dataframe tbody tr th {\n",
       "        vertical-align: top;\n",
       "    }\n",
       "\n",
       "    .dataframe thead th {\n",
       "        text-align: right;\n",
       "    }\n",
       "</style>\n",
       "<table border=\"1\" class=\"dataframe\">\n",
       "  <thead>\n",
       "    <tr style=\"text-align: right;\">\n",
       "      <th></th>\n",
       "      <th>experience</th>\n",
       "      <th>job_desc</th>\n",
       "      <th>key_skills</th>\n",
       "      <th>position</th>\n",
       "      <th>Doctorate :</th>\n",
       "    </tr>\n",
       "  </thead>\n",
       "  <tbody>\n",
       "    <tr>\n",
       "      <th>0</th>\n",
       "      <td>2 - 5 years</td>\n",
       "      <td>Job description\\n  Technical Skills\\nChartered...</td>\n",
       "      <td>['Assurance', 'Business transformation', 'Fixe...</td>\n",
       "      <td>PPM041 - AM-Internal Audit</td>\n",
       "      <td>NaN</td>\n",
       "    </tr>\n",
       "    <tr>\n",
       "      <th>1</th>\n",
       "      <td>4 - 6 years</td>\n",
       "      <td>Job description\\nRoles and Responsibility\\nDel...</td>\n",
       "      <td>['Hibernate', 'Core Java', 'Front End', 'Oracl...</td>\n",
       "      <td>Java Full Stack Developer</td>\n",
       "      <td>NaN</td>\n",
       "    </tr>\n",
       "    <tr>\n",
       "      <th>2</th>\n",
       "      <td>5 - 10 years</td>\n",
       "      <td>Job description\\n.\\nRoles and Responsibility\\n...</td>\n",
       "      <td>['Computer science', 'Data analysis', 'Analyti...</td>\n",
       "      <td>Sr. Data Scientist</td>\n",
       "      <td>NaN</td>\n",
       "    </tr>\n",
       "    <tr>\n",
       "      <th>3</th>\n",
       "      <td>10 - 15 years</td>\n",
       "      <td>Job description\\n\\n\\nRole purpose\\n\\nAs a Prin...</td>\n",
       "      <td>['Linux', 'Coding', 'Project management', 'Ana...</td>\n",
       "      <td>Principle Architect</td>\n",
       "      <td>NaN</td>\n",
       "    </tr>\n",
       "    <tr>\n",
       "      <th>4</th>\n",
       "      <td>3 - 8 years</td>\n",
       "      <td>Job description\\n  3-8 years experience in das...</td>\n",
       "      <td>['tableau', 'Reporting Analyst', 'SQL database...</td>\n",
       "      <td>Industry Consulting Prin. Consultant</td>\n",
       "      <td>NaN</td>\n",
       "    </tr>\n",
       "  </tbody>\n",
       "</table>\n",
       "</div>"
      ],
      "text/plain": [
       "      experience                                           job_desc  \\\n",
       "0    2 - 5 years  Job description\\n  Technical Skills\\nChartered...   \n",
       "1    4 - 6 years  Job description\\nRoles and Responsibility\\nDel...   \n",
       "2   5 - 10 years  Job description\\n.\\nRoles and Responsibility\\n...   \n",
       "3  10 - 15 years  Job description\\n\\n\\nRole purpose\\n\\nAs a Prin...   \n",
       "4    3 - 8 years  Job description\\n  3-8 years experience in das...   \n",
       "\n",
       "                                          key_skills  \\\n",
       "0  ['Assurance', 'Business transformation', 'Fixe...   \n",
       "1  ['Hibernate', 'Core Java', 'Front End', 'Oracl...   \n",
       "2  ['Computer science', 'Data analysis', 'Analyti...   \n",
       "3  ['Linux', 'Coding', 'Project management', 'Ana...   \n",
       "4  ['tableau', 'Reporting Analyst', 'SQL database...   \n",
       "\n",
       "                               position Doctorate :  \n",
       "0            PPM041 - AM-Internal Audit         NaN  \n",
       "1             Java Full Stack Developer         NaN  \n",
       "2                    Sr. Data Scientist         NaN  \n",
       "3                   Principle Architect         NaN  \n",
       "4  Industry Consulting Prin. Consultant         NaN  "
      ]
     },
     "execution_count": 27,
     "metadata": {},
     "output_type": "execute_result"
    }
   ],
   "source": [
    "#Drop Columns \n",
    "\n",
    "df.drop(['Unnamed: 0' , 'Job Applicants:' , \"Openings:\" , 'Posted:', 'PG :', \"UG :\" , 'salary'] , axis = 1 , inplace= True)\n",
    "df.head()\n"
   ]
  },
  {
   "cell_type": "code",
   "execution_count": 28,
   "metadata": {},
   "outputs": [],
   "source": [
    "#Select records that start with 0 or 1 in the experience columns\n",
    "#This records thus pertain to entry level jobs that require little to no experience \n",
    "\n",
    "df = df[df.experience.str.startswith('0') | df.experience.str.startswith('1 ')]"
   ]
  },
  {
   "cell_type": "code",
   "execution_count": 29,
   "metadata": {},
   "outputs": [
    {
     "data": {
      "text/plain": [
       "13451"
      ]
     },
     "execution_count": 29,
     "metadata": {},
     "output_type": "execute_result"
    }
   ],
   "source": [
    "len(df)"
   ]
  },
  {
   "cell_type": "code",
   "execution_count": 30,
   "metadata": {},
   "outputs": [
    {
     "data": {
      "text/plain": [
       "1 - 3 years     2057\n",
       "0 - 2 years     1621\n",
       "1 - 6 years     1553\n",
       "0 - 1 years     1530\n",
       "1 - 5 years     1338\n",
       "1 - 4 years     1311\n",
       "0 - 3 years     1133\n",
       "1 - 2 years     1013\n",
       "0 - 5 years      931\n",
       "0 - 4 years      508\n",
       "0 years          292\n",
       "0 - 6 years       70\n",
       "1 - 7 years       15\n",
       "0 - 8 years       14\n",
       "0 - 10 years      10\n",
       "1 years           10\n",
       "0 - 7 years        8\n",
       "1 - 8 years        7\n",
       "1 - 10 years       6\n",
       "1 - 11 years       5\n",
       "0 - 15 years       4\n",
       "0 - 22 years       3\n",
       "0 - 12 years       3\n",
       "1 - 12 years       2\n",
       "0 - 9 years        2\n",
       "1 - 14 years       2\n",
       "1 - 15 years       1\n",
       "0 - 13 years       1\n",
       "1 - 9 years        1\n",
       "Name: experience, dtype: int64"
      ]
     },
     "execution_count": 30,
     "metadata": {},
     "output_type": "execute_result"
    }
   ],
   "source": [
    "#show distribution of experience requirements\n",
    "\n",
    "df.experience.value_counts()"
   ]
  },
  {
   "cell_type": "code",
   "execution_count": 31,
   "metadata": {},
   "outputs": [
    {
     "data": {
      "text/plain": [
       "php developer                         147\n",
       "it recruiter                          130\n",
       "business development executive        108\n",
       "android developer                      86\n",
       "executive - collections                78\n",
       "                                     ... \n",
       "psl developer                           1\n",
       "web developer intern                    1\n",
       "php developer intern / trainee          1\n",
       "flutter developer intern / trainee      1\n",
       "sr full stack developer                 1\n",
       "Name: position, Length: 4764, dtype: int64"
      ]
     },
     "execution_count": 31,
     "metadata": {},
     "output_type": "execute_result"
    }
   ],
   "source": [
    "#Processes the position column of the dataset. Strips spaces. \n",
    "#Filters out jobs that have a very broad range of experience requirements\n",
    "#Print out the distribution of job roles\n",
    "\n",
    "df.position = df.position.str.strip(' ')\n",
    "df = df[~df['experience'].isin(['1 - 11 years' , '1 - 10 years' , '1 - 14 years' , '1 - 7 years' , '1 - 6 years' ,'0 - 5 years', '0 - 8 years' '1 - 8 years' , '1 - 5 years'])]\n",
    "pd.set_option('display.max_rows' , 100)\n",
    "df.position = df.position.str.lower()\n",
    "df.position.value_counts()"
   ]
  },
  {
   "cell_type": "code",
   "execution_count": 32,
   "metadata": {},
   "outputs": [
    {
     "data": {
      "text/html": [
       "<div>\n",
       "<style scoped>\n",
       "    .dataframe tbody tr th:only-of-type {\n",
       "        vertical-align: middle;\n",
       "    }\n",
       "\n",
       "    .dataframe tbody tr th {\n",
       "        vertical-align: top;\n",
       "    }\n",
       "\n",
       "    .dataframe thead th {\n",
       "        text-align: right;\n",
       "    }\n",
       "</style>\n",
       "<table border=\"1\" class=\"dataframe\">\n",
       "  <thead>\n",
       "    <tr style=\"text-align: right;\">\n",
       "      <th></th>\n",
       "      <th>experience</th>\n",
       "      <th>job_desc</th>\n",
       "      <th>key_skills</th>\n",
       "      <th>position</th>\n",
       "      <th>Doctorate :</th>\n",
       "    </tr>\n",
       "  </thead>\n",
       "  <tbody>\n",
       "    <tr>\n",
       "      <th>326</th>\n",
       "      <td>1 - 4 years</td>\n",
       "      <td>Job description\\n\\nURGENT HIRING FOR PHP DEVEL...</td>\n",
       "      <td>['jQuery', 'Opencart', 'MySQL', 'Wordpress', '...</td>\n",
       "      <td>web developer</td>\n",
       "      <td>NaN</td>\n",
       "    </tr>\n",
       "    <tr>\n",
       "      <th>425</th>\n",
       "      <td>1 - 4 years</td>\n",
       "      <td>Job description\\nRoles and Responsibilities\\nH...</td>\n",
       "      <td>['Drupal', 'Html5', 'Web Technologies', 'Javas...</td>\n",
       "      <td>web developer</td>\n",
       "      <td>NaN</td>\n",
       "    </tr>\n",
       "    <tr>\n",
       "      <th>589</th>\n",
       "      <td>1 - 3 years</td>\n",
       "      <td>Job description\\nJob Description--\\n\\nJava Scr...</td>\n",
       "      <td>['Computer science', 'CSS', 'jQuery', 'Front e...</td>\n",
       "      <td>front end developer</td>\n",
       "      <td>NaN</td>\n",
       "    </tr>\n",
       "    <tr>\n",
       "      <th>639</th>\n",
       "      <td>1 - 2 years</td>\n",
       "      <td>Job description\\nResponsibilities\\nDevelop and...</td>\n",
       "      <td>['Prototype', 'Illustrator', 'Illustration', '...</td>\n",
       "      <td>ui/ux designer</td>\n",
       "      <td>NaN</td>\n",
       "    </tr>\n",
       "    <tr>\n",
       "      <th>680</th>\n",
       "      <td>1 - 3 years</td>\n",
       "      <td>Job description\\nExperience in developing fron...</td>\n",
       "      <td>['Css', 'Problem Solving', 'Javascript', 'Html']</td>\n",
       "      <td>angular developer</td>\n",
       "      <td>NaN</td>\n",
       "    </tr>\n",
       "  </tbody>\n",
       "</table>\n",
       "</div>"
      ],
      "text/plain": [
       "      experience                                           job_desc  \\\n",
       "326  1 - 4 years  Job description\\n\\nURGENT HIRING FOR PHP DEVEL...   \n",
       "425  1 - 4 years  Job description\\nRoles and Responsibilities\\nH...   \n",
       "589  1 - 3 years  Job description\\nJob Description--\\n\\nJava Scr...   \n",
       "639  1 - 2 years  Job description\\nResponsibilities\\nDevelop and...   \n",
       "680  1 - 3 years  Job description\\nExperience in developing fron...   \n",
       "\n",
       "                                            key_skills             position  \\\n",
       "326  ['jQuery', 'Opencart', 'MySQL', 'Wordpress', '...        web developer   \n",
       "425  ['Drupal', 'Html5', 'Web Technologies', 'Javas...        web developer   \n",
       "589  ['Computer science', 'CSS', 'jQuery', 'Front e...  front end developer   \n",
       "639  ['Prototype', 'Illustrator', 'Illustration', '...       ui/ux designer   \n",
       "680   ['Css', 'Problem Solving', 'Javascript', 'Html']    angular developer   \n",
       "\n",
       "    Doctorate :  \n",
       "326         NaN  \n",
       "425         NaN  \n",
       "589         NaN  \n",
       "639         NaN  \n",
       "680         NaN  "
      ]
     },
     "execution_count": 32,
     "metadata": {},
     "output_type": "execute_result"
    }
   ],
   "source": [
    "#First line is used to select the job roles that we want to chose. We can alter this line to select job roles for different subjects (For example python)\n",
    "#Filters out the dataset based on the roles we choose\n",
    "roles = ['web designer' , 'web developer' , 'full stack developer' , 'react native developer' , 'angular developer' , 'wordpress developer' , 'full stack developer(angular 9,node js)' , 'react js developer' , 'php developers' , 'ui/ux designer' , 'node js developer' , 'front end developer']\n",
    "df = df[df['position'].isin(roles)]\n",
    "df.head()\n"
   ]
  },
  {
   "cell_type": "code",
   "execution_count": 33,
   "metadata": {},
   "outputs": [
    {
     "data": {
      "text/plain": [
       "web designer                               65\n",
       "web developer                              50\n",
       "wordpress developer                        35\n",
       "angular developer                          29\n",
       "full stack developer                       28\n",
       "php developers                             18\n",
       "react native developer                     17\n",
       "front end developer                        12\n",
       "ui/ux designer                             12\n",
       "react js developer                         11\n",
       "full stack developer(angular 9,node js)    10\n",
       "node js developer                           8\n",
       "Name: position, dtype: int64"
      ]
     },
     "execution_count": 33,
     "metadata": {},
     "output_type": "execute_result"
    }
   ],
   "source": [
    "#Distribution of the final chosen job roles\n",
    "\n",
    "df.position.value_counts()\n"
   ]
  },
  {
   "cell_type": "code",
   "execution_count": 34,
   "metadata": {},
   "outputs": [
    {
     "data": {
      "text/plain": [
       "1 - 3 years    99\n",
       "0 - 2 years    58\n",
       "0 - 3 years    33\n",
       "1 - 2 years    29\n",
       "1 - 4 years    28\n",
       "0 - 1 years    27\n",
       "0 - 4 years    20\n",
       "0 - 8 years     1\n",
       "Name: experience, dtype: int64"
      ]
     },
     "execution_count": 34,
     "metadata": {},
     "output_type": "execute_result"
    }
   ],
   "source": [
    "#distribution of experience requirements of chosen records\n",
    "df.experience.value_counts()"
   ]
  },
  {
   "cell_type": "code",
   "execution_count": 35,
   "metadata": {},
   "outputs": [],
   "source": [
    "#Save the dataset \n",
    "#Change the name for different subjects. \n",
    "\n",
    "df.to_excel('../dataset/Excel/web_dataset.xlsx' , engine  = 'xlsxwriter' , index = False)"
   ]
  },
  {
   "cell_type": "code",
   "execution_count": 36,
   "metadata": {},
   "outputs": [
    {
     "data": {
      "text/plain": [
       "295"
      ]
     },
     "execution_count": 36,
     "metadata": {},
     "output_type": "execute_result"
    }
   ],
   "source": [
    "len(df)"
   ]
  },
  {
   "cell_type": "code",
   "execution_count": null,
   "metadata": {},
   "outputs": [],
   "source": []
  }
 ],
 "metadata": {
  "interpreter": {
   "hash": "31f2aee4e71d21fbe5cf8b01ff0e069b9275f58929596ceb00d14d90e3e16cd6"
  },
  "kernelspec": {
   "display_name": "Python 3 (ipykernel)",
   "language": "python",
   "name": "python3"
  },
  "language_info": {
   "codemirror_mode": {
    "name": "ipython",
    "version": 3
   },
   "file_extension": ".py",
   "mimetype": "text/x-python",
   "name": "python",
   "nbconvert_exporter": "python",
   "pygments_lexer": "ipython3",
   "version": "3.8.8"
  }
 },
 "nbformat": 4,
 "nbformat_minor": 2
}
