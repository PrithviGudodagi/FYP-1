{
 "cells": [
  {
   "cell_type": "code",
   "execution_count": 1,
   "metadata": {},
   "outputs": [],
   "source": [
    "#Libraries\n",
    "import pandas as pd"
   ]
  },
  {
   "cell_type": "code",
   "execution_count": 5,
   "metadata": {},
   "outputs": [
    {
     "name": "stdout",
     "output_type": "stream",
     "text": [
      "Dataset loaded!\n"
     ]
    }
   ],
   "source": [
    "#Loading the dataset\n",
    "df = pd.read_excel(\"../dataset/Excel/syllabus_dataset.xlsx\")\n",
    "print(\"Dataset loaded!\")"
   ]
  },
  {
   "cell_type": "code",
   "execution_count": 6,
   "metadata": {},
   "outputs": [],
   "source": [
    "#Data Preprocessing"
   ]
  },
  {
   "cell_type": "code",
   "execution_count": 7,
   "metadata": {},
   "outputs": [
    {
     "name": "stderr",
     "output_type": "stream",
     "text": [
      "<ipython-input-7-a7159b5cd497>:7: FutureWarning: The default value of regex will change from True to False in a future version.\n",
      "  df['Description'] = df['Description'].str.replace(pat, '')\n"
     ]
    }
   ],
   "source": [
    "#Removing unnecessary words\n",
    "unnecessary_words = ['Unit – I','Unit – II', 'Unit – III', 'Unit – IV', 'Unit – V', \n",
    "              'UNIT I', 'nit – I', 'Unit - I', 'Unit I','08 Hours','8 Hours', '10 Hours','8 hours'\n",
    "              '06 Hours','6 Hours', '6 Hours','6 hours', '10 hrs','09 Hours','06 Hours','9 Hours','08 hrs',\n",
    "             'Unit-I', '8 hours' , '\\n']\n",
    "pat = '|'.join(r\"\\b{}\\b\".format(x) for x in unnecessary_words)\n",
    "df['Description'] = df['Description'].str.replace(pat, '')"
   ]
  },
  {
   "cell_type": "code",
   "execution_count": 8,
   "metadata": {},
   "outputs": [],
   "source": [
    "#Converting dataset into lowercase\n",
    "df['Subject'] = df['Subject'].apply(lambda x: x.lower())\n",
    "df['Description'] = df['Description'].apply(lambda x: x.lower())"
   ]
  },
  {
   "cell_type": "code",
   "execution_count": 9,
   "metadata": {},
   "outputs": [],
   "source": [
    "df['Subject'] = df['Subject']+':'"
   ]
  },
  {
   "cell_type": "code",
   "execution_count": 10,
   "metadata": {},
   "outputs": [],
   "source": [
    "#Exporting\n",
    "df.to_excel(\"../dataset/Excel/syllabus_dataset_processed.xlsx\", index = False, header=True)\n",
    "df.to_csv(\"../dataset/CSV/syllabus_dataset_processed.csv\", index = False, header=True)"
   ]
  },
  {
   "cell_type": "code",
   "execution_count": null,
   "metadata": {},
   "outputs": [],
   "source": []
  }
 ],
 "metadata": {
  "kernelspec": {
   "display_name": "Python 3 (ipykernel)",
   "language": "python",
   "name": "python3"
  },
  "language_info": {
   "codemirror_mode": {
    "name": "ipython",
    "version": 3
   },
   "file_extension": ".py",
   "mimetype": "text/x-python",
   "name": "python",
   "nbconvert_exporter": "python",
   "pygments_lexer": "ipython3",
   "version": "3.8.10"
  }
 },
 "nbformat": 4,
 "nbformat_minor": 2
}
