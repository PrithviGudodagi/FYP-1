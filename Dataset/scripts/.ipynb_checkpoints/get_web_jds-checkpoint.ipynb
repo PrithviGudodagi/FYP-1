{
 "cells": [
  {
   "cell_type": "markdown",
   "metadata": {},
   "source": [
    "First few cells are for creating the master dataset (i.e by merging all csv files collected) \n"
   ]
  },
  {
   "cell_type": "code",
   "execution_count": 1,
   "metadata": {},
   "outputs": [],
   "source": [
    "#imports\n",
    "\n",
    "import pandas as pd\n",
    "import glob\n",
    "from tqdm import tqdm"
   ]
  },
  {
   "cell_type": "code",
   "execution_count": 2,
   "metadata": {},
   "outputs": [
    {
     "name": "stdout",
     "output_type": "stream",
     "text": [
      "['../csv_files/3602107603.csv', '../csv_files/Sumedha1.csv', '../csv_files/3658686332.csv', '../csv_files/00001.csv', '../csv_files/7567441.csv', '../csv_files/Sumedha2.csv', '../csv_files/3449474271.csv', '../csv_files/Dataset2.csv', '../csv_files/1203654458.csv', '../csv_files/2519810956.csv', '../csv_files/00003.csv', '../csv_files/3508153662.csv', '../csv_files/00002.csv', '../csv_files/2028054341.csv', '../csv_files/864405729.csv', '../csv_files/Dataset1.csv', '../csv_files/3119164873.csv', '../csv_files/3815991990.csv', '../csv_files/3726298824.csv', '../csv_files/00004.csv', '../csv_files/00005.csv', '../csv_files/3722881981.csv']\n"
     ]
    }
   ],
   "source": [
    "#specifies all file names using glob liberary and prints their path\n",
    "\n",
    "all_files = glob.glob('../csv_files/*.csv')\n",
    "print(all_files)"
   ]
  },
  {
   "cell_type": "code",
   "execution_count": 3,
   "metadata": {},
   "outputs": [
    {
     "name": "stderr",
     "output_type": "stream",
     "text": [
      "22it [00:01, 17.62it/s]\n"
     ]
    }
   ],
   "source": [
    "#Reads all files and inserts them into a list. Also accounts for inconsistencies \n",
    "# in the saving of the dataset performed by the juniors during data collection.\n",
    "\n",
    "file_dfs = []\n",
    "\n",
    "for i,file in tqdm(enumerate(all_files)):\n",
    "    try:\n",
    "        df = pd.read_csv(file , sep = '|')\n",
    "        \n",
    "    except:\n",
    "        df = pd.read_csv(file)\n",
    "    file_dfs.append(df)\n",
    "\n",
    "        "
   ]
  },
  {
   "cell_type": "code",
   "execution_count": 4,
   "metadata": {},
   "outputs": [
    {
     "name": "stdout",
     "output_type": "stream",
     "text": [
      "52983\n"
     ]
    }
   ],
   "source": [
    "#Merge and print length of full dataset\n",
    "\n",
    "df = pd.concat(file_dfs , axis = 0 , ignore_index=True)\n",
    "print(len(df))"
   ]
  },
  {
   "cell_type": "markdown",
   "metadata": {},
   "source": [
    "The following cells are for processing and selecting the right records in terms of experience and job roles.\n",
    "First few cells deal with removal of useless columns\n",
    "\n"
   ]
  },
  {
   "cell_type": "code",
   "execution_count": 5,
   "metadata": {},
   "outputs": [
    {
     "data": {
      "text/html": [
       "<div>\n",
       "<style scoped>\n",
       "    .dataframe tbody tr th:only-of-type {\n",
       "        vertical-align: middle;\n",
       "    }\n",
       "\n",
       "    .dataframe tbody tr th {\n",
       "        vertical-align: top;\n",
       "    }\n",
       "\n",
       "    .dataframe thead th {\n",
       "        text-align: right;\n",
       "    }\n",
       "</style>\n",
       "<table border=\"1\" class=\"dataframe\">\n",
       "  <thead>\n",
       "    <tr style=\"text-align: right;\">\n",
       "      <th></th>\n",
       "      <th>Unnamed: 0</th>\n",
       "      <th>Job Applicants:</th>\n",
       "      <th>Openings:</th>\n",
       "      <th>PG :</th>\n",
       "      <th>Posted:</th>\n",
       "      <th>UG :</th>\n",
       "      <th>experience</th>\n",
       "      <th>job_desc</th>\n",
       "      <th>key_skills</th>\n",
       "      <th>position</th>\n",
       "      <th>salary</th>\n",
       "      <th>Doctorate :</th>\n",
       "    </tr>\n",
       "  </thead>\n",
       "  <tbody>\n",
       "    <tr>\n",
       "      <th>0</th>\n",
       "      <td>0</td>\n",
       "      <td>226</td>\n",
       "      <td>1.0</td>\n",
       "      <td>Post Graduation Not Required</td>\n",
       "      <td>17 days ago</td>\n",
       "      <td>B.Tech/B.E. in Computers</td>\n",
       "      <td>3 - 6 years</td>\n",
       "      <td>Job description\\n\\nJob Summary: We are looking...</td>\n",
       "      <td>['Data Guard', 'Database Administration', 'Lin...</td>\n",
       "      <td>Senior Oracle DB Administrator</td>\n",
       "      <td>Not Disclosed</td>\n",
       "      <td>NaN</td>\n",
       "    </tr>\n",
       "    <tr>\n",
       "      <th>1</th>\n",
       "      <td>1</td>\n",
       "      <td>44</td>\n",
       "      <td>1.0</td>\n",
       "      <td>Post Graduation Not Required</td>\n",
       "      <td>17 days ago</td>\n",
       "      <td>B.Tech/B.E. in Computers</td>\n",
       "      <td>5 - 7 years</td>\n",
       "      <td>Job description\\nGENERAL JOB SUMMARY\\nThe Seni...</td>\n",
       "      <td>['UI development', 'Translation', 'Front end',...</td>\n",
       "      <td>ReactJS Developer</td>\n",
       "      <td>Not Disclosed</td>\n",
       "      <td>NaN</td>\n",
       "    </tr>\n",
       "    <tr>\n",
       "      <th>2</th>\n",
       "      <td>2</td>\n",
       "      <td>Less than 10</td>\n",
       "      <td>1.0</td>\n",
       "      <td>Post Graduation Not Required</td>\n",
       "      <td>17 days ago</td>\n",
       "      <td>B.A</td>\n",
       "      <td>12 - 15 years</td>\n",
       "      <td>Job description\\nTechnical Lead for Central Re...</td>\n",
       "      <td>['Supervisor', 'Compliance', 'Banking', 'Techn...</td>\n",
       "      <td>SVP - Regulatory Platform Head</td>\n",
       "      <td>Not Disclosed</td>\n",
       "      <td>NaN</td>\n",
       "    </tr>\n",
       "    <tr>\n",
       "      <th>3</th>\n",
       "      <td>3</td>\n",
       "      <td>275</td>\n",
       "      <td>1.0</td>\n",
       "      <td>Any Postgraduate</td>\n",
       "      <td>17 days ago</td>\n",
       "      <td>B.Tech/B.E. in Computers</td>\n",
       "      <td>3 - 6 years</td>\n",
       "      <td>Job description\\nCoordinate and participate in...</td>\n",
       "      <td>['User Acceptance Testing', 'Life Cycle', 'Bus...</td>\n",
       "      <td>Information Systems-Sr. Analyst</td>\n",
       "      <td>Not Disclosed</td>\n",
       "      <td>NaN</td>\n",
       "    </tr>\n",
       "    <tr>\n",
       "      <th>4</th>\n",
       "      <td>4</td>\n",
       "      <td>13</td>\n",
       "      <td>1.0</td>\n",
       "      <td>Post Graduation Not Required</td>\n",
       "      <td>17 days ago</td>\n",
       "      <td>Any Graduate</td>\n",
       "      <td>1 - 4 years</td>\n",
       "      <td>Job description\\nMain tasks\\nAs strategic Audi...</td>\n",
       "      <td>['Build', 'Infrastructure']</td>\n",
       "      <td>Auditor - Quality Management System</td>\n",
       "      <td>Not Disclosed</td>\n",
       "      <td>NaN</td>\n",
       "    </tr>\n",
       "  </tbody>\n",
       "</table>\n",
       "</div>"
      ],
      "text/plain": [
       "   Unnamed: 0 Job Applicants:  Openings:                          PG :  \\\n",
       "0           0             226        1.0  Post Graduation Not Required   \n",
       "1           1              44        1.0  Post Graduation Not Required   \n",
       "2           2    Less than 10        1.0  Post Graduation Not Required   \n",
       "3           3             275        1.0              Any Postgraduate   \n",
       "4           4              13        1.0  Post Graduation Not Required   \n",
       "\n",
       "       Posted:                      UG :     experience  \\\n",
       "0  17 days ago  B.Tech/B.E. in Computers    3 - 6 years   \n",
       "1  17 days ago  B.Tech/B.E. in Computers    5 - 7 years   \n",
       "2  17 days ago                       B.A  12 - 15 years   \n",
       "3  17 days ago  B.Tech/B.E. in Computers    3 - 6 years   \n",
       "4  17 days ago              Any Graduate    1 - 4 years   \n",
       "\n",
       "                                            job_desc  \\\n",
       "0  Job description\\n\\nJob Summary: We are looking...   \n",
       "1  Job description\\nGENERAL JOB SUMMARY\\nThe Seni...   \n",
       "2  Job description\\nTechnical Lead for Central Re...   \n",
       "3  Job description\\nCoordinate and participate in...   \n",
       "4  Job description\\nMain tasks\\nAs strategic Audi...   \n",
       "\n",
       "                                          key_skills  \\\n",
       "0  ['Data Guard', 'Database Administration', 'Lin...   \n",
       "1  ['UI development', 'Translation', 'Front end',...   \n",
       "2  ['Supervisor', 'Compliance', 'Banking', 'Techn...   \n",
       "3  ['User Acceptance Testing', 'Life Cycle', 'Bus...   \n",
       "4                        ['Build', 'Infrastructure']   \n",
       "\n",
       "                              position         salary Doctorate :  \n",
       "0       Senior Oracle DB Administrator  Not Disclosed         NaN  \n",
       "1                    ReactJS Developer  Not Disclosed         NaN  \n",
       "2       SVP - Regulatory Platform Head  Not Disclosed         NaN  \n",
       "3      Information Systems-Sr. Analyst  Not Disclosed         NaN  \n",
       "4  Auditor - Quality Management System  Not Disclosed         NaN  "
      ]
     },
     "execution_count": 5,
     "metadata": {},
     "output_type": "execute_result"
    }
   ],
   "source": [
    "df.head()"
   ]
  },
  {
   "cell_type": "code",
   "execution_count": 6,
   "metadata": {},
   "outputs": [
    {
     "data": {
      "text/html": [
       "<div>\n",
       "<style scoped>\n",
       "    .dataframe tbody tr th:only-of-type {\n",
       "        vertical-align: middle;\n",
       "    }\n",
       "\n",
       "    .dataframe tbody tr th {\n",
       "        vertical-align: top;\n",
       "    }\n",
       "\n",
       "    .dataframe thead th {\n",
       "        text-align: right;\n",
       "    }\n",
       "</style>\n",
       "<table border=\"1\" class=\"dataframe\">\n",
       "  <thead>\n",
       "    <tr style=\"text-align: right;\">\n",
       "      <th></th>\n",
       "      <th>experience</th>\n",
       "      <th>job_desc</th>\n",
       "      <th>key_skills</th>\n",
       "      <th>position</th>\n",
       "      <th>Doctorate :</th>\n",
       "    </tr>\n",
       "  </thead>\n",
       "  <tbody>\n",
       "    <tr>\n",
       "      <th>0</th>\n",
       "      <td>3 - 6 years</td>\n",
       "      <td>Job description\\n\\nJob Summary: We are looking...</td>\n",
       "      <td>['Data Guard', 'Database Administration', 'Lin...</td>\n",
       "      <td>Senior Oracle DB Administrator</td>\n",
       "      <td>NaN</td>\n",
       "    </tr>\n",
       "    <tr>\n",
       "      <th>1</th>\n",
       "      <td>5 - 7 years</td>\n",
       "      <td>Job description\\nGENERAL JOB SUMMARY\\nThe Seni...</td>\n",
       "      <td>['UI development', 'Translation', 'Front end',...</td>\n",
       "      <td>ReactJS Developer</td>\n",
       "      <td>NaN</td>\n",
       "    </tr>\n",
       "    <tr>\n",
       "      <th>2</th>\n",
       "      <td>12 - 15 years</td>\n",
       "      <td>Job description\\nTechnical Lead for Central Re...</td>\n",
       "      <td>['Supervisor', 'Compliance', 'Banking', 'Techn...</td>\n",
       "      <td>SVP - Regulatory Platform Head</td>\n",
       "      <td>NaN</td>\n",
       "    </tr>\n",
       "    <tr>\n",
       "      <th>3</th>\n",
       "      <td>3 - 6 years</td>\n",
       "      <td>Job description\\nCoordinate and participate in...</td>\n",
       "      <td>['User Acceptance Testing', 'Life Cycle', 'Bus...</td>\n",
       "      <td>Information Systems-Sr. Analyst</td>\n",
       "      <td>NaN</td>\n",
       "    </tr>\n",
       "    <tr>\n",
       "      <th>4</th>\n",
       "      <td>1 - 4 years</td>\n",
       "      <td>Job description\\nMain tasks\\nAs strategic Audi...</td>\n",
       "      <td>['Build', 'Infrastructure']</td>\n",
       "      <td>Auditor - Quality Management System</td>\n",
       "      <td>NaN</td>\n",
       "    </tr>\n",
       "  </tbody>\n",
       "</table>\n",
       "</div>"
      ],
      "text/plain": [
       "      experience                                           job_desc  \\\n",
       "0    3 - 6 years  Job description\\n\\nJob Summary: We are looking...   \n",
       "1    5 - 7 years  Job description\\nGENERAL JOB SUMMARY\\nThe Seni...   \n",
       "2  12 - 15 years  Job description\\nTechnical Lead for Central Re...   \n",
       "3    3 - 6 years  Job description\\nCoordinate and participate in...   \n",
       "4    1 - 4 years  Job description\\nMain tasks\\nAs strategic Audi...   \n",
       "\n",
       "                                          key_skills  \\\n",
       "0  ['Data Guard', 'Database Administration', 'Lin...   \n",
       "1  ['UI development', 'Translation', 'Front end',...   \n",
       "2  ['Supervisor', 'Compliance', 'Banking', 'Techn...   \n",
       "3  ['User Acceptance Testing', 'Life Cycle', 'Bus...   \n",
       "4                        ['Build', 'Infrastructure']   \n",
       "\n",
       "                              position Doctorate :  \n",
       "0       Senior Oracle DB Administrator         NaN  \n",
       "1                    ReactJS Developer         NaN  \n",
       "2       SVP - Regulatory Platform Head         NaN  \n",
       "3      Information Systems-Sr. Analyst         NaN  \n",
       "4  Auditor - Quality Management System         NaN  "
      ]
     },
     "execution_count": 6,
     "metadata": {},
     "output_type": "execute_result"
    }
   ],
   "source": [
    "#Drop Columns \n",
    "\n",
    "df.drop(['Unnamed: 0' , 'Job Applicants:' , \"Openings:\" , 'Posted:', 'PG :', \"UG :\" , 'salary'] , axis = 1 , inplace= True)\n",
    "df.head()\n"
   ]
  },
  {
   "cell_type": "code",
   "execution_count": 7,
   "metadata": {},
   "outputs": [],
   "source": [
    "#Select records that start with 0 or 1 in the experience columns\n",
    "#This records thus pertain to entry level jobs that require little to no experience \n",
    "\n",
    "df = df[df.experience.str.startswith('0') | df.experience.str.startswith('1 ')]"
   ]
  },
  {
   "cell_type": "code",
   "execution_count": 8,
   "metadata": {},
   "outputs": [
    {
     "data": {
      "text/plain": [
       "13451"
      ]
     },
     "execution_count": 8,
     "metadata": {},
     "output_type": "execute_result"
    }
   ],
   "source": [
    "len(df)"
   ]
  },
  {
   "cell_type": "code",
   "execution_count": 9,
   "metadata": {},
   "outputs": [
    {
     "data": {
      "text/plain": [
       "1 - 3 years     2057\n",
       "0 - 2 years     1621\n",
       "1 - 6 years     1553\n",
       "0 - 1 years     1530\n",
       "1 - 5 years     1338\n",
       "1 - 4 years     1311\n",
       "0 - 3 years     1133\n",
       "1 - 2 years     1013\n",
       "0 - 5 years      931\n",
       "0 - 4 years      508\n",
       "0 years          292\n",
       "0 - 6 years       70\n",
       "1 - 7 years       15\n",
       "0 - 8 years       14\n",
       "0 - 10 years      10\n",
       "1 years           10\n",
       "0 - 7 years        8\n",
       "1 - 8 years        7\n",
       "1 - 10 years       6\n",
       "1 - 11 years       5\n",
       "0 - 15 years       4\n",
       "0 - 22 years       3\n",
       "0 - 12 years       3\n",
       "1 - 12 years       2\n",
       "0 - 9 years        2\n",
       "1 - 14 years       2\n",
       "1 - 9 years        1\n",
       "0 - 13 years       1\n",
       "1 - 15 years       1\n",
       "Name: experience, dtype: int64"
      ]
     },
     "execution_count": 9,
     "metadata": {},
     "output_type": "execute_result"
    }
   ],
   "source": [
    "#show distribution of experience requirements\n",
    "\n",
    "df.experience.value_counts()"
   ]
  },
  {
   "cell_type": "code",
   "execution_count": 10,
   "metadata": {},
   "outputs": [
    {
     "data": {
      "text/plain": [
       "php developer                                                             147\n",
       "it recruiter                                                              130\n",
       "business development executive                                            108\n",
       "android developer                                                          86\n",
       "executive - collections                                                    78\n",
       "                                                                         ... \n",
       "glittering opportunity for graduate freshers for international voice!!      1\n",
       "office boy                                                                  1\n",
       "associate product management                                                1\n",
       "payroll & time and attendance                                               1\n",
       "business development executive - inside sales                               1\n",
       "Name: position, Length: 4764, dtype: int64"
      ]
     },
     "execution_count": 10,
     "metadata": {},
     "output_type": "execute_result"
    }
   ],
   "source": [
    "#Processes the position column of the dataset. Strips spaces. \n",
    "#Filters out jobs that have a very broad range of experience requirements\n",
    "#Print out the distribution of job roles\n",
    "\n",
    "df.position = df.position.str.strip(' ')\n",
    "df = df[~df['experience'].isin(['1 - 11 years' , '1 - 10 years' , '1 - 14 years' , '1 - 7 years' , '1 - 6 years' ,'0 - 5 years', '0 - 8 years' '1 - 8 years' , '1 - 5 years'])]\n",
    "pd.set_option('display.max_rows' , 100)\n",
    "df.position = df.position.str.lower()\n",
    "df.position.value_counts()"
   ]
  },
  {
   "cell_type": "code",
   "execution_count": 11,
   "metadata": {},
   "outputs": [
    {
     "data": {
      "text/html": [
       "<div>\n",
       "<style scoped>\n",
       "    .dataframe tbody tr th:only-of-type {\n",
       "        vertical-align: middle;\n",
       "    }\n",
       "\n",
       "    .dataframe tbody tr th {\n",
       "        vertical-align: top;\n",
       "    }\n",
       "\n",
       "    .dataframe thead th {\n",
       "        text-align: right;\n",
       "    }\n",
       "</style>\n",
       "<table border=\"1\" class=\"dataframe\">\n",
       "  <thead>\n",
       "    <tr style=\"text-align: right;\">\n",
       "      <th></th>\n",
       "      <th>experience</th>\n",
       "      <th>job_desc</th>\n",
       "      <th>key_skills</th>\n",
       "      <th>position</th>\n",
       "      <th>Doctorate :</th>\n",
       "    </tr>\n",
       "  </thead>\n",
       "  <tbody>\n",
       "    <tr>\n",
       "      <th>258</th>\n",
       "      <td>1 - 3 years</td>\n",
       "      <td>Job description\\nDotnet/Node.JS/\\n\\nPerform ob...</td>\n",
       "      <td>['IT services', 'SAN', 'PDF', 'SOC', 'SMS', '....</td>\n",
       "      <td>full stack developer</td>\n",
       "      <td>NaN</td>\n",
       "    </tr>\n",
       "    <tr>\n",
       "      <th>329</th>\n",
       "      <td>1 - 2 years</td>\n",
       "      <td>Job description\\nBasic Requirement\\nResponsibl...</td>\n",
       "      <td>['jQuery', 'Front end', 'Version control', 'GI...</td>\n",
       "      <td>react js developer</td>\n",
       "      <td>NaN</td>\n",
       "    </tr>\n",
       "    <tr>\n",
       "      <th>836</th>\n",
       "      <td>1 - 3 years</td>\n",
       "      <td>Job description\\nJob Description\\nYou will be ...</td>\n",
       "      <td>['IT services', 'SAN', 'jQuery', 'Front end', ...</td>\n",
       "      <td>front end developer</td>\n",
       "      <td>NaN</td>\n",
       "    </tr>\n",
       "    <tr>\n",
       "      <th>1308</th>\n",
       "      <td>1 - 3 years</td>\n",
       "      <td>Job description\\nWeb Designer\\n\\nWeb Designer ...</td>\n",
       "      <td>['PSD', 'Station', 'Client satisfaction', 'Web...</td>\n",
       "      <td>web designer</td>\n",
       "      <td>NaN</td>\n",
       "    </tr>\n",
       "    <tr>\n",
       "      <th>7309</th>\n",
       "      <td>1 - 2 years</td>\n",
       "      <td>Job description\\nWe are looking for a Full Sta...</td>\n",
       "      <td>['jQuery', 'RDBMS', 'Wordpress', 'Javascript',...</td>\n",
       "      <td>full stack developer</td>\n",
       "      <td>NaN</td>\n",
       "    </tr>\n",
       "  </tbody>\n",
       "</table>\n",
       "</div>"
      ],
      "text/plain": [
       "       experience                                           job_desc  \\\n",
       "258   1 - 3 years  Job description\\nDotnet/Node.JS/\\n\\nPerform ob...   \n",
       "329   1 - 2 years  Job description\\nBasic Requirement\\nResponsibl...   \n",
       "836   1 - 3 years  Job description\\nJob Description\\nYou will be ...   \n",
       "1308  1 - 3 years  Job description\\nWeb Designer\\n\\nWeb Designer ...   \n",
       "7309  1 - 2 years  Job description\\nWe are looking for a Full Sta...   \n",
       "\n",
       "                                             key_skills              position  \\\n",
       "258   ['IT services', 'SAN', 'PDF', 'SOC', 'SMS', '....  full stack developer   \n",
       "329   ['jQuery', 'Front end', 'Version control', 'GI...    react js developer   \n",
       "836   ['IT services', 'SAN', 'jQuery', 'Front end', ...   front end developer   \n",
       "1308  ['PSD', 'Station', 'Client satisfaction', 'Web...          web designer   \n",
       "7309  ['jQuery', 'RDBMS', 'Wordpress', 'Javascript',...  full stack developer   \n",
       "\n",
       "     Doctorate :  \n",
       "258          NaN  \n",
       "329          NaN  \n",
       "836          NaN  \n",
       "1308         NaN  \n",
       "7309         NaN  "
      ]
     },
     "execution_count": 11,
     "metadata": {},
     "output_type": "execute_result"
    }
   ],
   "source": [
    "#First line is used to select the job roles that we want to chose. We can alter this line to select job roles for different subjects (For example python)\n",
    "#Filters out the dataset based on the roles we choose\n",
    "roles = ['web designer' , 'web developer' , 'full stack developer' , 'react native developer' , 'angular developer' , 'wordpress developer' , 'full stack developer(angular 9,node js)' , 'react js developer' , 'php developers' , 'ui/ux designer' , 'node js developer' , 'front end developer']\n",
    "df = df[df['position'].isin(roles)]\n",
    "df.head()\n"
   ]
  },
  {
   "cell_type": "code",
   "execution_count": 12,
   "metadata": {},
   "outputs": [
    {
     "data": {
      "text/plain": [
       "web designer                               65\n",
       "web developer                              50\n",
       "wordpress developer                        35\n",
       "angular developer                          29\n",
       "full stack developer                       28\n",
       "php developers                             18\n",
       "react native developer                     17\n",
       "ui/ux designer                             12\n",
       "front end developer                        12\n",
       "react js developer                         11\n",
       "full stack developer(angular 9,node js)    10\n",
       "node js developer                           8\n",
       "Name: position, dtype: int64"
      ]
     },
     "execution_count": 12,
     "metadata": {},
     "output_type": "execute_result"
    }
   ],
   "source": [
    "#Distribution of the final chosen job roles\n",
    "\n",
    "df.position.value_counts()\n"
   ]
  },
  {
   "cell_type": "code",
   "execution_count": 13,
   "metadata": {},
   "outputs": [
    {
     "data": {
      "text/plain": [
       "1 - 3 years    99\n",
       "0 - 2 years    58\n",
       "0 - 3 years    33\n",
       "1 - 2 years    29\n",
       "1 - 4 years    28\n",
       "0 - 1 years    27\n",
       "0 - 4 years    20\n",
       "0 - 8 years     1\n",
       "Name: experience, dtype: int64"
      ]
     },
     "execution_count": 13,
     "metadata": {},
     "output_type": "execute_result"
    }
   ],
   "source": [
    "#distribution of experience requirements of chosen records\n",
    "df.experience.value_counts()"
   ]
  },
  {
   "cell_type": "code",
   "execution_count": 14,
   "metadata": {},
   "outputs": [],
   "source": [
    "#Save the dataset \n",
    "#Change the name for different subjects. \n",
    "\n",
    "df.to_excel('../dataset/Excel/web_dataset.xlsx' , engine  = 'xlsxwriter' , index = False)"
   ]
  },
  {
   "cell_type": "code",
   "execution_count": 15,
   "metadata": {},
   "outputs": [
    {
     "data": {
      "text/plain": [
       "295"
      ]
     },
     "execution_count": 15,
     "metadata": {},
     "output_type": "execute_result"
    }
   ],
   "source": [
    "len(df)"
   ]
  }
 ],
 "metadata": {
  "interpreter": {
   "hash": "31f2aee4e71d21fbe5cf8b01ff0e069b9275f58929596ceb00d14d90e3e16cd6"
  },
  "kernelspec": {
   "display_name": "Python 3 (ipykernel)",
   "language": "python",
   "name": "python3"
  },
  "language_info": {
   "codemirror_mode": {
    "name": "ipython",
    "version": 3
   },
   "file_extension": ".py",
   "mimetype": "text/x-python",
   "name": "python",
   "nbconvert_exporter": "python",
   "pygments_lexer": "ipython3",
   "version": "3.8.8"
  }
 },
 "nbformat": 4,
 "nbformat_minor": 2
}
