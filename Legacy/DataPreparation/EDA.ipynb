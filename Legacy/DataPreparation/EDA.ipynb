{
 "cells": [
  {
   "cell_type": "code",
   "execution_count": 1,
   "metadata": {},
   "outputs": [],
   "source": [
    "import pandas as pd\n",
    "df = pd.read_csv('00001.csv',sep='|')"
   ]
  },
  {
   "cell_type": "code",
   "execution_count": 2,
   "metadata": {},
   "outputs": [
    {
     "data": {
      "text/html": [
       "<div>\n",
       "<style scoped>\n",
       "    .dataframe tbody tr th:only-of-type {\n",
       "        vertical-align: middle;\n",
       "    }\n",
       "\n",
       "    .dataframe tbody tr th {\n",
       "        vertical-align: top;\n",
       "    }\n",
       "\n",
       "    .dataframe thead th {\n",
       "        text-align: right;\n",
       "    }\n",
       "</style>\n",
       "<table border=\"1\" class=\"dataframe\">\n",
       "  <thead>\n",
       "    <tr style=\"text-align: right;\">\n",
       "      <th></th>\n",
       "      <th>Unnamed: 0</th>\n",
       "      <th>position</th>\n",
       "      <th>salary</th>\n",
       "      <th>experience</th>\n",
       "      <th>job_desc</th>\n",
       "      <th>Posted:</th>\n",
       "      <th>Openings:</th>\n",
       "      <th>Job Applicants:</th>\n",
       "      <th>key_skills</th>\n",
       "      <th>UG :</th>\n",
       "      <th>PG :</th>\n",
       "      <th>Doctorate :</th>\n",
       "    </tr>\n",
       "  </thead>\n",
       "  <tbody>\n",
       "    <tr>\n",
       "      <th>0</th>\n",
       "      <td>0</td>\n",
       "      <td>Angular JS Developer - WGS</td>\n",
       "      <td>Not Disclosed</td>\n",
       "      <td>7 - 10 years</td>\n",
       "      <td>Job description\\n\\nJob Description/Responsibil...</td>\n",
       "      <td>18 days ago</td>\n",
       "      <td>1.0</td>\n",
       "      <td>13</td>\n",
       "      <td>['Maven', 'Css', 'Hibernate', 'Javascript', 'H...</td>\n",
       "      <td>Any Graduate</td>\n",
       "      <td>Post Graduation Not Required</td>\n",
       "      <td>NaN</td>\n",
       "    </tr>\n",
       "    <tr>\n",
       "      <th>1</th>\n",
       "      <td>1</td>\n",
       "      <td>Angular Architect / Developer - WGS</td>\n",
       "      <td>Not Disclosed</td>\n",
       "      <td>6 - 14 years</td>\n",
       "      <td>Job description\\n\\nJob Description/Responsibil...</td>\n",
       "      <td>18 days ago</td>\n",
       "      <td>1.0</td>\n",
       "      <td>Less than 10</td>\n",
       "      <td>['Css', 'Hibernate', 'Javascript', 'Html', 'Jq...</td>\n",
       "      <td>Any Graduate</td>\n",
       "      <td>Post Graduation Not Required</td>\n",
       "      <td>NaN</td>\n",
       "    </tr>\n",
       "    <tr>\n",
       "      <th>2</th>\n",
       "      <td>2</td>\n",
       "      <td>Unit Head - Internal Audit</td>\n",
       "      <td>Not Disclosed</td>\n",
       "      <td>6 - 11 years</td>\n",
       "      <td>Job description\\nThe role bearer has the respo...</td>\n",
       "      <td>18 days ago</td>\n",
       "      <td>1.0</td>\n",
       "      <td>91</td>\n",
       "      <td>['Publishing', 'Internal audit', 'management',...</td>\n",
       "      <td>Any Graduate</td>\n",
       "      <td>Post Graduation Not Required</td>\n",
       "      <td>NaN</td>\n",
       "    </tr>\n",
       "    <tr>\n",
       "      <th>3</th>\n",
       "      <td>3</td>\n",
       "      <td>International Corporate Counsel - APAC,pan India</td>\n",
       "      <td>Not Disclosed</td>\n",
       "      <td>3 - 5 years</td>\n",
       "      <td>Job description\\n  Heres what youll be doing:\\...</td>\n",
       "      <td>18 days ago</td>\n",
       "      <td>1.0</td>\n",
       "      <td>125</td>\n",
       "      <td>['Commercial Contracts', 'Law', 'Sales', 'Life...</td>\n",
       "      <td>Any Graduate</td>\n",
       "      <td>Post Graduation Not Required</td>\n",
       "      <td>NaN</td>\n",
       "    </tr>\n",
       "    <tr>\n",
       "      <th>4</th>\n",
       "      <td>4</td>\n",
       "      <td>Senior Analyst (Product)</td>\n",
       "      <td>Not Disclosed</td>\n",
       "      <td>6 - 10 years</td>\n",
       "      <td>Job description\\nResponsibilities\\nUse data to...</td>\n",
       "      <td>18 days ago</td>\n",
       "      <td>1.0</td>\n",
       "      <td>Less than 10</td>\n",
       "      <td>['Analyst', 'Tool design', 'Analytics', 'SQL',...</td>\n",
       "      <td>Any Graduate</td>\n",
       "      <td>Post Graduation Not Required</td>\n",
       "      <td>NaN</td>\n",
       "    </tr>\n",
       "  </tbody>\n",
       "</table>\n",
       "</div>"
      ],
      "text/plain": [
       "   Unnamed: 0                                          position  \\\n",
       "0           0                        Angular JS Developer - WGS   \n",
       "1           1               Angular Architect / Developer - WGS   \n",
       "2           2                        Unit Head - Internal Audit   \n",
       "3           3  International Corporate Counsel - APAC,pan India   \n",
       "4           4                          Senior Analyst (Product)   \n",
       "\n",
       "          salary    experience  \\\n",
       "0  Not Disclosed  7 - 10 years   \n",
       "1  Not Disclosed  6 - 14 years   \n",
       "2  Not Disclosed  6 - 11 years   \n",
       "3  Not Disclosed   3 - 5 years   \n",
       "4  Not Disclosed  6 - 10 years   \n",
       "\n",
       "                                            job_desc      Posted:  Openings:  \\\n",
       "0  Job description\\n\\nJob Description/Responsibil...  18 days ago        1.0   \n",
       "1  Job description\\n\\nJob Description/Responsibil...  18 days ago        1.0   \n",
       "2  Job description\\nThe role bearer has the respo...  18 days ago        1.0   \n",
       "3  Job description\\n  Heres what youll be doing:\\...  18 days ago        1.0   \n",
       "4  Job description\\nResponsibilities\\nUse data to...  18 days ago        1.0   \n",
       "\n",
       "  Job Applicants:                                         key_skills  \\\n",
       "0              13  ['Maven', 'Css', 'Hibernate', 'Javascript', 'H...   \n",
       "1    Less than 10  ['Css', 'Hibernate', 'Javascript', 'Html', 'Jq...   \n",
       "2              91  ['Publishing', 'Internal audit', 'management',...   \n",
       "3             125  ['Commercial Contracts', 'Law', 'Sales', 'Life...   \n",
       "4    Less than 10  ['Analyst', 'Tool design', 'Analytics', 'SQL',...   \n",
       "\n",
       "           UG :                          PG : Doctorate :  \n",
       "0  Any Graduate  Post Graduation Not Required         NaN  \n",
       "1  Any Graduate  Post Graduation Not Required         NaN  \n",
       "2  Any Graduate  Post Graduation Not Required         NaN  \n",
       "3  Any Graduate  Post Graduation Not Required         NaN  \n",
       "4  Any Graduate  Post Graduation Not Required         NaN  "
      ]
     },
     "execution_count": 2,
     "metadata": {},
     "output_type": "execute_result"
    }
   ],
   "source": [
    "df.head()"
   ]
  },
  {
   "cell_type": "code",
   "execution_count": 3,
   "metadata": {},
   "outputs": [],
   "source": [
    "df.drop('Unnamed: 0', axis=1, inplace = True)\n",
    "df.drop('Posted:', axis=1, inplace=True)"
   ]
  },
  {
   "cell_type": "code",
   "execution_count": 4,
   "metadata": {},
   "outputs": [
    {
     "data": {
      "text/html": [
       "<div>\n",
       "<style scoped>\n",
       "    .dataframe tbody tr th:only-of-type {\n",
       "        vertical-align: middle;\n",
       "    }\n",
       "\n",
       "    .dataframe tbody tr th {\n",
       "        vertical-align: top;\n",
       "    }\n",
       "\n",
       "    .dataframe thead th {\n",
       "        text-align: right;\n",
       "    }\n",
       "</style>\n",
       "<table border=\"1\" class=\"dataframe\">\n",
       "  <thead>\n",
       "    <tr style=\"text-align: right;\">\n",
       "      <th></th>\n",
       "      <th>position</th>\n",
       "      <th>salary</th>\n",
       "      <th>experience</th>\n",
       "      <th>job_desc</th>\n",
       "      <th>Openings:</th>\n",
       "      <th>Job Applicants:</th>\n",
       "      <th>key_skills</th>\n",
       "      <th>UG :</th>\n",
       "      <th>PG :</th>\n",
       "      <th>Doctorate :</th>\n",
       "    </tr>\n",
       "  </thead>\n",
       "  <tbody>\n",
       "    <tr>\n",
       "      <th>0</th>\n",
       "      <td>Angular JS Developer - WGS</td>\n",
       "      <td>Not Disclosed</td>\n",
       "      <td>7 - 10 years</td>\n",
       "      <td>Job description\\n\\nJob Description/Responsibil...</td>\n",
       "      <td>1.0</td>\n",
       "      <td>13</td>\n",
       "      <td>['Maven', 'Css', 'Hibernate', 'Javascript', 'H...</td>\n",
       "      <td>Any Graduate</td>\n",
       "      <td>Post Graduation Not Required</td>\n",
       "      <td>NaN</td>\n",
       "    </tr>\n",
       "    <tr>\n",
       "      <th>1</th>\n",
       "      <td>Angular Architect / Developer - WGS</td>\n",
       "      <td>Not Disclosed</td>\n",
       "      <td>6 - 14 years</td>\n",
       "      <td>Job description\\n\\nJob Description/Responsibil...</td>\n",
       "      <td>1.0</td>\n",
       "      <td>Less than 10</td>\n",
       "      <td>['Css', 'Hibernate', 'Javascript', 'Html', 'Jq...</td>\n",
       "      <td>Any Graduate</td>\n",
       "      <td>Post Graduation Not Required</td>\n",
       "      <td>NaN</td>\n",
       "    </tr>\n",
       "    <tr>\n",
       "      <th>2</th>\n",
       "      <td>Unit Head - Internal Audit</td>\n",
       "      <td>Not Disclosed</td>\n",
       "      <td>6 - 11 years</td>\n",
       "      <td>Job description\\nThe role bearer has the respo...</td>\n",
       "      <td>1.0</td>\n",
       "      <td>91</td>\n",
       "      <td>['Publishing', 'Internal audit', 'management',...</td>\n",
       "      <td>Any Graduate</td>\n",
       "      <td>Post Graduation Not Required</td>\n",
       "      <td>NaN</td>\n",
       "    </tr>\n",
       "    <tr>\n",
       "      <th>3</th>\n",
       "      <td>International Corporate Counsel - APAC,pan India</td>\n",
       "      <td>Not Disclosed</td>\n",
       "      <td>3 - 5 years</td>\n",
       "      <td>Job description\\n  Heres what youll be doing:\\...</td>\n",
       "      <td>1.0</td>\n",
       "      <td>125</td>\n",
       "      <td>['Commercial Contracts', 'Law', 'Sales', 'Life...</td>\n",
       "      <td>Any Graduate</td>\n",
       "      <td>Post Graduation Not Required</td>\n",
       "      <td>NaN</td>\n",
       "    </tr>\n",
       "    <tr>\n",
       "      <th>4</th>\n",
       "      <td>Senior Analyst (Product)</td>\n",
       "      <td>Not Disclosed</td>\n",
       "      <td>6 - 10 years</td>\n",
       "      <td>Job description\\nResponsibilities\\nUse data to...</td>\n",
       "      <td>1.0</td>\n",
       "      <td>Less than 10</td>\n",
       "      <td>['Analyst', 'Tool design', 'Analytics', 'SQL',...</td>\n",
       "      <td>Any Graduate</td>\n",
       "      <td>Post Graduation Not Required</td>\n",
       "      <td>NaN</td>\n",
       "    </tr>\n",
       "  </tbody>\n",
       "</table>\n",
       "</div>"
      ],
      "text/plain": [
       "                                           position         salary  \\\n",
       "0                        Angular JS Developer - WGS  Not Disclosed   \n",
       "1               Angular Architect / Developer - WGS  Not Disclosed   \n",
       "2                        Unit Head - Internal Audit  Not Disclosed   \n",
       "3  International Corporate Counsel - APAC,pan India  Not Disclosed   \n",
       "4                          Senior Analyst (Product)  Not Disclosed   \n",
       "\n",
       "     experience                                           job_desc  Openings:  \\\n",
       "0  7 - 10 years  Job description\\n\\nJob Description/Responsibil...        1.0   \n",
       "1  6 - 14 years  Job description\\n\\nJob Description/Responsibil...        1.0   \n",
       "2  6 - 11 years  Job description\\nThe role bearer has the respo...        1.0   \n",
       "3   3 - 5 years  Job description\\n  Heres what youll be doing:\\...        1.0   \n",
       "4  6 - 10 years  Job description\\nResponsibilities\\nUse data to...        1.0   \n",
       "\n",
       "  Job Applicants:                                         key_skills  \\\n",
       "0              13  ['Maven', 'Css', 'Hibernate', 'Javascript', 'H...   \n",
       "1    Less than 10  ['Css', 'Hibernate', 'Javascript', 'Html', 'Jq...   \n",
       "2              91  ['Publishing', 'Internal audit', 'management',...   \n",
       "3             125  ['Commercial Contracts', 'Law', 'Sales', 'Life...   \n",
       "4    Less than 10  ['Analyst', 'Tool design', 'Analytics', 'SQL',...   \n",
       "\n",
       "           UG :                          PG : Doctorate :  \n",
       "0  Any Graduate  Post Graduation Not Required         NaN  \n",
       "1  Any Graduate  Post Graduation Not Required         NaN  \n",
       "2  Any Graduate  Post Graduation Not Required         NaN  \n",
       "3  Any Graduate  Post Graduation Not Required         NaN  \n",
       "4  Any Graduate  Post Graduation Not Required         NaN  "
      ]
     },
     "execution_count": 4,
     "metadata": {},
     "output_type": "execute_result"
    }
   ],
   "source": [
    "df.head()"
   ]
  },
  {
   "cell_type": "code",
   "execution_count": 5,
   "metadata": {},
   "outputs": [
    {
     "name": "stdout",
     "output_type": "stream",
     "text": [
      "Job description\n",
      "The Technology Product Portfolio Operations team is seeking a Business Analyst-RPA to assist with the overall operations of the internal RPA team.\n",
      "Your support will be used in identifying processes that can be simplified, digitized, or eliminated using RPA to gain efficiencies and improvement by understanding the\n",
      "Why in the current process. The ideal candidate should have a track record of innovative problem solving as well as experience with requirements gathering and the automation delivery framework. You will have the opportunity to drive high impact, high visibility projects that involve multiple cross-functional teams.\n",
      "This person will facilitate process documentation of both the as is process and the to be process. Work with process owners to identify exceptions and ensure stress testing in the UAT phase to ensure proper product release.\n",
      "You should be energized by the opportunity to be part of a cutting-edge solution delivery team, to think strategically in building scalable solutions, and defining the scope of the offering.\n",
      "The role will require an individual who anticipates and understands how to get things done through influence, leveraging their communication, leadership, and collaboration skills. You will need to be comfortable with talking about highly technical concepts with non-technical peers.\n",
      "It is imperative that this person is flexible, can work in a complex environment with multiple competing priorities and is never satisfied with the status quo. This analyst will report to the RPA Project Manager.\n",
      "Responsibilities\n",
      "Conduct process assessments to identify, prioritize and streamline business processes that are potential automation candidates\n",
      "Work within a collaborative environment, liaising with stakeholders across the global organization and the RPA team\n",
      "Create detailed process definition documents outlining complex processes with the required information to serve as the guide for robotic process automation development\n",
      "Synthesize business processes into automation steps\n",
      "Maintain an understanding on different RPA tool capabilities as new releases come available\n",
      "Other duties as assigned\n",
      "Skills Qualifications\n",
      "1-2 years working experience as a business analyst\n",
      "Bachelor s Degree in Computer Science, Computer Engineering or related field\n",
      "Exceptional analytical and conceptual thinking skills\n",
      "Practical experience generating process documentation\n",
      "Experience working with Robotic Process Automation (preferably UiPath)\n",
      "RoleBusiness Analyst\n",
      "Industry TypeSoftware Product\n",
      "Functional AreaIT Software - Other\n",
      "Employment TypeFull Time, Permanent\n",
      "Role CategorySystem Design/Implementation/ERP/CRM\n",
      "Education\n",
      "UG :Any Graduate\n",
      "PG :Post Graduation Not Required\n",
      "Key Skills\n",
      "Computer scienceProcess automationStress testingBusiness AnalystProcess documentationAnalyticalProduct portfolioSolution deliveryRoboticsBusiness operations\n"
     ]
    }
   ],
   "source": [
    "print(df['job_desc'][69])"
   ]
  },
  {
   "cell_type": "code",
   "execution_count": null,
   "metadata": {},
   "outputs": [],
   "source": []
  },
  {
   "cell_type": "code",
   "execution_count": 5,
   "metadata": {},
   "outputs": [],
   "source": [
    "df['Openings:'] = df['Openings:'].fillna('Not mentioned')"
   ]
  },
  {
   "cell_type": "code",
   "execution_count": 6,
   "metadata": {},
   "outputs": [
    {
     "data": {
      "text/html": [
       "<div>\n",
       "<style scoped>\n",
       "    .dataframe tbody tr th:only-of-type {\n",
       "        vertical-align: middle;\n",
       "    }\n",
       "\n",
       "    .dataframe tbody tr th {\n",
       "        vertical-align: top;\n",
       "    }\n",
       "\n",
       "    .dataframe thead th {\n",
       "        text-align: right;\n",
       "    }\n",
       "</style>\n",
       "<table border=\"1\" class=\"dataframe\">\n",
       "  <thead>\n",
       "    <tr style=\"text-align: right;\">\n",
       "      <th></th>\n",
       "      <th>position</th>\n",
       "      <th>salary</th>\n",
       "      <th>experience</th>\n",
       "      <th>job_desc</th>\n",
       "      <th>Openings:</th>\n",
       "      <th>Job Applicants:</th>\n",
       "      <th>key_skills</th>\n",
       "      <th>UG :</th>\n",
       "      <th>PG :</th>\n",
       "      <th>Doctorate :</th>\n",
       "    </tr>\n",
       "  </thead>\n",
       "  <tbody>\n",
       "    <tr>\n",
       "      <th>0</th>\n",
       "      <td>Angular JS Developer - WGS</td>\n",
       "      <td>Not Disclosed</td>\n",
       "      <td>7 - 10 years</td>\n",
       "      <td>job description\\n\\njob description/responsibil...</td>\n",
       "      <td>1.0</td>\n",
       "      <td>13</td>\n",
       "      <td>['Maven', 'Css', 'Hibernate', 'Javascript', 'H...</td>\n",
       "      <td>Any Graduate</td>\n",
       "      <td>Post Graduation Not Required</td>\n",
       "      <td>NaN</td>\n",
       "    </tr>\n",
       "    <tr>\n",
       "      <th>1</th>\n",
       "      <td>Angular Architect / Developer - WGS</td>\n",
       "      <td>Not Disclosed</td>\n",
       "      <td>6 - 14 years</td>\n",
       "      <td>job description\\n\\njob description/responsibil...</td>\n",
       "      <td>1.0</td>\n",
       "      <td>Less than 10</td>\n",
       "      <td>['Css', 'Hibernate', 'Javascript', 'Html', 'Jq...</td>\n",
       "      <td>Any Graduate</td>\n",
       "      <td>Post Graduation Not Required</td>\n",
       "      <td>NaN</td>\n",
       "    </tr>\n",
       "    <tr>\n",
       "      <th>2</th>\n",
       "      <td>Unit Head - Internal Audit</td>\n",
       "      <td>Not Disclosed</td>\n",
       "      <td>6 - 11 years</td>\n",
       "      <td>job description\\nthe role bearer has the respo...</td>\n",
       "      <td>1.0</td>\n",
       "      <td>91</td>\n",
       "      <td>['Publishing', 'Internal audit', 'management',...</td>\n",
       "      <td>Any Graduate</td>\n",
       "      <td>Post Graduation Not Required</td>\n",
       "      <td>NaN</td>\n",
       "    </tr>\n",
       "    <tr>\n",
       "      <th>3</th>\n",
       "      <td>International Corporate Counsel - APAC,pan India</td>\n",
       "      <td>Not Disclosed</td>\n",
       "      <td>3 - 5 years</td>\n",
       "      <td>job description\\n  heres what youll be doing:\\...</td>\n",
       "      <td>1.0</td>\n",
       "      <td>125</td>\n",
       "      <td>['Commercial Contracts', 'Law', 'Sales', 'Life...</td>\n",
       "      <td>Any Graduate</td>\n",
       "      <td>Post Graduation Not Required</td>\n",
       "      <td>NaN</td>\n",
       "    </tr>\n",
       "    <tr>\n",
       "      <th>4</th>\n",
       "      <td>Senior Analyst (Product)</td>\n",
       "      <td>Not Disclosed</td>\n",
       "      <td>6 - 10 years</td>\n",
       "      <td>job description\\nresponsibilities\\nuse data to...</td>\n",
       "      <td>1.0</td>\n",
       "      <td>Less than 10</td>\n",
       "      <td>['Analyst', 'Tool design', 'Analytics', 'SQL',...</td>\n",
       "      <td>Any Graduate</td>\n",
       "      <td>Post Graduation Not Required</td>\n",
       "      <td>NaN</td>\n",
       "    </tr>\n",
       "  </tbody>\n",
       "</table>\n",
       "</div>"
      ],
      "text/plain": [
       "                                           position         salary  \\\n",
       "0                        Angular JS Developer - WGS  Not Disclosed   \n",
       "1               Angular Architect / Developer - WGS  Not Disclosed   \n",
       "2                        Unit Head - Internal Audit  Not Disclosed   \n",
       "3  International Corporate Counsel - APAC,pan India  Not Disclosed   \n",
       "4                          Senior Analyst (Product)  Not Disclosed   \n",
       "\n",
       "     experience                                           job_desc  Openings:  \\\n",
       "0  7 - 10 years  job description\\n\\njob description/responsibil...        1.0   \n",
       "1  6 - 14 years  job description\\n\\njob description/responsibil...        1.0   \n",
       "2  6 - 11 years  job description\\nthe role bearer has the respo...        1.0   \n",
       "3   3 - 5 years  job description\\n  heres what youll be doing:\\...        1.0   \n",
       "4  6 - 10 years  job description\\nresponsibilities\\nuse data to...        1.0   \n",
       "\n",
       "  Job Applicants:                                         key_skills  \\\n",
       "0              13  ['Maven', 'Css', 'Hibernate', 'Javascript', 'H...   \n",
       "1    Less than 10  ['Css', 'Hibernate', 'Javascript', 'Html', 'Jq...   \n",
       "2              91  ['Publishing', 'Internal audit', 'management',...   \n",
       "3             125  ['Commercial Contracts', 'Law', 'Sales', 'Life...   \n",
       "4    Less than 10  ['Analyst', 'Tool design', 'Analytics', 'SQL',...   \n",
       "\n",
       "           UG :                          PG : Doctorate :  \n",
       "0  Any Graduate  Post Graduation Not Required         NaN  \n",
       "1  Any Graduate  Post Graduation Not Required         NaN  \n",
       "2  Any Graduate  Post Graduation Not Required         NaN  \n",
       "3  Any Graduate  Post Graduation Not Required         NaN  \n",
       "4  Any Graduate  Post Graduation Not Required         NaN  "
      ]
     },
     "execution_count": 6,
     "metadata": {},
     "output_type": "execute_result"
    }
   ],
   "source": [
    "#processing job desc\n",
    "\n",
    "#Converting to lower case\n",
    "for i in range(df['job_desc'].shape[0]):\n",
    "    curr = df['job_desc'].values[i]\n",
    "    df['job_desc'].values[i] = curr.lower()\n",
    "\n",
    "df.head()"
   ]
  },
  {
   "cell_type": "code",
   "execution_count": 8,
   "metadata": {},
   "outputs": [
    {
     "name": "stdout",
     "output_type": "stream",
     "text": [
      "job description\n",
      "\n",
      "if you are person you love to take up challenging yet interesting tasks in hand then continue the read below!\n",
      "app name: cnx player 4k ultra hd video player app on windows 10, android and ios\n",
      "job summary\n",
      "1. provide design concepts and develop, create and integrate the website layouts/user interfaces.\n",
      "2. create responsive web designs and components from the requirements stage through production deployment.\n",
      "3. create wire frames, storyboards, user flows, process flows, mock ups and site maps to communicate interaction and design ideas.\n",
      "4. help in integration of ui with the backend\n",
      "4. design, modify, develop, write and implement html/css code and components.\n",
      "5. work closely with web developers to ensure designs are implemented correctly.\n",
      "6. ensure web pages and other digital assets work across all browsers and devices.\n",
      "7. maintain consistent on-brand creative within a fast-paced and collaborative environment.\n",
      "8. demonstrate a high level of mastery with css and the ability to execute on complex designs, as well as a focused understanding of javascript.\n",
      "responsibilities and duties\n",
      "1. working knowledge of html 5, css 3, javascript / jquery, angularjs, reactjs, bootstrap.\n",
      "2. expert level proficiency in adobe photoshop, dreamweaver, adobe illustrator, adobe flash, web designing, corel draw.\n",
      "3. experience designing responsive pages.\n",
      "4. experience working with ux specialists to ideate and develop web pages.\n",
      "5. creative copy writing and editing skills for client websites.\n",
      "6. experience with website prototyping.\n",
      "7. well versed in cross browser and cross platform development. (ie7+, firefox, safari, chrome).\n",
      "8. comfortable with converting psd to code.\n",
      "9. should have working knowledge in wordpress, drupal and other cms platforms with ability to handle projects independently.\n",
      "10. strong writing communication (especially understanding) skills.\n",
      "what s in for you\n",
      "1. positivity driven environment to work in.\n",
      "2. good salary.\n",
      "3. flexible working\n",
      "4. freedom to work your way and deliver the best\n",
      "joining time : immediate\n",
      "location : mohali\n",
      "job type : full time\n",
      "rolegraphic/web designer\n",
      "industry typeinternet\n",
      "functional areait software - application programming, maintenance\n",
      "employment typefull time, permanent\n",
      "role categoryprogramming & design\n",
      "education\n",
      "ug :any graduate\n",
      "pg :post graduation not required\n",
      "key skills\n",
      "illustratorsocial mediacorel drawjavascriptdigital marketingjqueryphotoshopweb designing\n"
     ]
    }
   ],
   "source": [
    "print(df['job_desc'][10])"
   ]
  },
  {
   "cell_type": "code",
   "execution_count": 14,
   "metadata": {},
   "outputs": [
    {
     "name": "stdout",
     "output_type": "stream",
     "text": [
      "0\n",
      "1\n"
     ]
    }
   ],
   "source": [
    "import nltk\n",
    "from nltk.tokenize import word_tokenize\n",
    "from nltk.corpus import stopwords\n",
    "\n",
    "sw = stopwords.words('english')\n",
    "\n",
    "t_words = \"\"\n",
    "punc = ['.', ',', '/', ':', ';', '!', '@', '#', '$', '%', '&', '*', '•', '\\\\', '?','(', ')', '-' ]\n",
    "\n",
    "#removing stopwords and punctuations\n",
    "for i in range(df['job_desc'].shape[0]):\n",
    "    curr = word_tokenize(df['job_desc'].values[i])\n",
    "    for each in curr:\n",
    "        if each not in punc and not(each.isdigit()):\n",
    "            t_words = t_words + \" \" + each\n",
    "    df['job_desc'].values[i] = t_words\n",
    "    print(i)\n",
    "            \n",
    "\n",
    "df.head()"
   ]
  },
  {
   "cell_type": "code",
   "execution_count": 10,
   "metadata": {},
   "outputs": [
    {
     "name": "stdout",
     "output_type": "stream",
     "text": [
      " job description job description/responsibilities should and must points have to be covered and underlined and should also include roles and responsibilities perform the detailed design of application and technology architecture components and classes configure build and test the application or technology architecture components and classes create automated unit test scripts and use them as part of a continuous integration development process exposed to pci/dss standards and/or payments domain basic skillsets needed jdk 1.7.x jre 1.7.x soap testing frameworks javascript libraries angular js 1.4.x jquery and jquery-ui jshint gulpjs html 5.0 and css 3.0 jsf hibernate orm oracle 11g web services framework apache cxf jaxp tools jenkins maven nexus repository manager sonarqube soapui subversion jboss developer studio eclipse the employees of worldline are all different but share the same values you can see it in the way we behave we are curious and humble we are learning every day we keep things simple and everyone engaged in our fast-moving industry we are adaptable and life-long learners everyone demonstrates the same dedication to quality and efficiency we have an entrepreneurial spirit and sense of service above all we never turn our back on a challenge these values nurture a dynamic and innovative team where everyone can develop and grow roleoutside technical consultant industry typeit services consulting functional areait software application programming maintenance employment typefull time permanent role categorysystem design/implementation/erp/crm education ug any graduate pg post graduation not required key skills mavenangular jscsshibernatejavascripthtmljquerytest scriptsweb services job description job description/responsibilities should and must points have to be covered and underlined and should also include roles and responsibilities perform the detailed design of application and technology architecture components and classes configure build and test the application or technology architecture components and classes create automated unit test scripts and use them as part of a continuous integration development process exposed to pci/dss standards and/or payments domain basic skillsets needed jdk 1.7.x jre 1.7.x soap testing frameworks javascript libraries angular 8+ jquery and jquery-ui jslint webpack html 5.0 and css 3.0 hibernate orm oracle 11g web services framework apache cxf jaxp tools jenkins maven nexus repository manager sonarqube soapui subversion jboss developer studio eclipse roleoutside technical consultant industry typeit services consulting functional areait software application programming maintenance employment typefull time permanent role categorysystem design/implementation/erp/crm education ug any graduate pg post graduation not required key skills angular 8csshibernatejavascripthtmljqueryweb services job description the role bearer has the responsibility to actively lead internal audits for the bank as assigned it entails taking complete ownership of the process creating checklists conducting audits as per the defined timelines publishing the audit reports and preparing for presentations to be conducted quarterly the role bearer has to adhere by the guidelines set by the bank for audit reports making the audit process more efficient contributing to the larger objectives of the bank roles responsibilities prepare and administer bank s annual audit plan monitor the audit cycle programme to ensure it remains effective and up to date manage the detailed planning risk assessment scoping and resourcing of complex audit projects lead preliminary planning and establishes direction for audits provides support to assigned auditors manage project to quality outcomes meet established time budget provide leadership in digitising and automating the audit processes using agile audit methology and transition internal audit to more effficient and nimble unit ensure execution of audit plan as per agreed timelines draft audit reports discuss and finalize the same with the auditee review the working papers prepared by subordinates and take complete ownership of it identify critical areas for continuous monitoring and develop necessary exception reports for the same lead in developing operational expertise in core areas and leverage in internal audits develop key metrics trends and strategic analysis of areas of responsibility and presents audit trends and results to senior management prepare audit committee presentations for audits held during each quarter and making sure that all critical issues are included along with adequate plan of action conduct follow-up audits to make sure that regulations and bank rules are still being met and best practices are being followed conduct special audits as required by senior management and issue results provide guidance and trainings to project team members in the field of internal audit capture and share best- practice knowledge amongst the team create an environment that promotes collaborative learning and collective ownership of responsibilities list the deliverables other than primary but essential for the role leverage in-house synergies through collaboration with internal stakeholders stay abreast with global market trends and competitor strategies in key markets manage senior stakeholder relationships within the management team and interact with board audit committee members roleaudit manager industry typerecruitment staffing functional areaaccounts finance tax company secretary audit employment typefull time permanent role categoryfinance/audit education ug any graduate pg post graduation not required key skills manager internal auditpublishinginternal auditmanagementrisk assessmentresourcingagilemanagementoperationsauditing job description heres what youll be doing support the sales team for udemy s b2b products both global and regional by negotiating various types of technology agreements such as saas subscription agreements partnership agreements privacy agreements order forms ndas and other sales-related documents provide day-to-day support and legal guidance to internal business stakeholders advise internal teams/cross functions regarding legal and business issues including identifying and communicating risks associated with specific agreements work with internal clients on establishing and using form agreements continuously develop and improve udemy s standard template agreements policies and processes in response to growing company needs establish commercial contract negotiation and other policies for the apac region closely collaborate with other lawyers in europe and the u.s. we are excited about you because you have 3-5 years of experience working on commercial contracts either at an international law firm or in-house legal department including experience negotiating and drafting saas agreements working knowledge of privacy as it relates to commercial contracts experience negotiating customer and vendor dpas strong contract drafting and negotiation skills and a practical approach to contract negotiation the ability to convey information in a clear concise and logical manner communicates persuasively advocates a position or cause and has effective listening skills a keen sense of business judgment in the context of assessing legal risk highly responsive and detail-oriented attitude ability to work autonomously while prioritizing and managing a workload in a fast-paced work environment at a high-growth company ability to effectively work with cross-functional teams and various levels of employees including senior executives an energetic positive forward-thinking and creative individual with ethical standards and strong desire to work in a dynamic environment fluent english written and spoken other languages may be beneficial but are not required rolelegal manager industry typeeducation training functional arealegal regulatory intellectual property employment typefull time permanent role categoryother education ug any graduate pg post graduation not required key skills commercial contractslawsaleslife insurancecontract draftingfinancelegalhealthcaremarketing job description responsibilities use data to inform and influence the direction ofthe product team roadmaps inform business decisions partner with product teams and other functions inthe organization to define goals and identify key metrics for existing featuresand new releases build automated dashboards and reports to driveawareness and understanding of key metrics and experiment results requirements knowledge of sql python r anyone bi tool ability to handle unstructured problems throughdata-driven decision making 1-4 years of relevant experience in analyticspreferably product analytics motivated and self-driven able to drive effective communication of theanalyses through emails and bi tool design capable of making his/her team take qualityresponsibility rolesystem analyst industry typeeducation training functional areait software application programming maintenance employment typefull time permanent role categoryprogramming design education ug any graduate pg post graduation not required key skills analysttool designanalyticssqlpython job description responsibilities use data to inform and influence the direction of the product team roadmaps to inform business decisions partner with product teams and other functions in the organization to define goals and identify key metrics for existing features and new releases build automated dashboards and reports to drive awareness and understanding of key metrics and experiment results requirements knowledge of sql python r anyone bi tool ability to handle unstructured problems through the data-driven decision making 1-4 years of relevant experience in analytics preferably product analytics motivated and self-driven able to drive effective communication of the analyses through emails and bi tool design capable of making his/her team take quality responsibility rolebusiness analyst industry typeeducation training functional areait software application programming maintenance employment typefull time permanent role categorysystem design/implementation/erp/crm education ug any graduate pg post graduation not required key skills analysttool designanalyticssqlpython job description you will be responsible for a diverse scope of administrative activities in the rg hockey program unit that supports the operational continuity and improvement of its grassroots development center operations inventory management stakeholder engagement internal and external and development and deployment of policies and procedures in a scalable manner about roundglass sports roundglass sports is transforming sports in the state of punjab by creating an environment that s both desirable and equitable building infrastructure training and motivation through an academy and grassroots program to help players reach their full potential our focus is on bringing world class standards to roundglass punjab football club and the roundglass sports academy which will support the development of talent in football hockey and tennis underpinned by the principles of wholistic wellbeing what you ll do perform efficient budgetary and financial controlling of amenities facilities equipment kits travel match events etc while ensuring high quality standards collaborate on the accreditation licensing registration process for rg hockey program liaise with internal stakeholders to ensure operations continuity of rg hockey program operations by proactively problem-solving constraints manage communication with stakeholders from relevant hockey administration regulatory bodies coordinate with corporate procurement team on vendor management for operating and maintaining facilities equipment kits amenities etc minimize costs in collaboration with corporate procurement team supervise and coordinate operational processes and be actively involved and contribute in the cross-functional planning and structures learning hostels kitchen nutrition grassroots training centers scouting perform annual planning and goal setting for hockey operations department at the start of the year including the 4-quarter plan engagement with external sports bodies and management of amenities and contracts etc track update and ensure accuracy of contracts and documentation connected with the hockey program coordinate with legal finance corporate procurement corporate operations academy operations it people culture on delivering functional requirements collaborate on performance enhancement and continuous learning development of team members deliver and implement operational and administrative programs through wholistic development initiatives of hockey athletes who we re looking for a bachelor degree education along with advanced education in sports management or a related program significant and demonstrated experience 8-10 years in sports operations management and logistics within a professional sports environment knowledge of professional leagues and regulations in the domain of hockey sport proficiency in financial budgetary and procurement processes communication skills to cater to a diverse set of internal external stakeholders proactive in planning organizing and managing multiple priorities comfortable with navigating ambiguity and dealing with fast paced changes roleoperations manager industry typefitness wellness functional areaites bpo kpo lpo customer service operations employment typefull time permanent role categoryoperations education ug any graduate pg post graduation not required key skills traininglearningtenniseducationfinancerecruitment job description design solutions utilizing automation anywhere best practices and maintain technical responsibility for project delivery as the sole technical resource on a project or the leader of a delivery team drive the strategic and tactical roll-out of the solution to enterprise customers provide training over the web or in-person consult with clients and partners to provide functional and technical expertise in areas including solution design project management business process improvement and risk identification/mitigation develop and document configuration best practices and contribute to team training and professional development efforts maintain a current and thorough understanding of automation anywhere products and services work closely with sales to provide demos and technical due diligence in the pre-sales cycle desired skills and experience to years of total experience to years experience with rpa tool preferably aa tools blue prism and ui path will be added advantage .net 3.5 and higher framework c asp.net ado.net entity framework or hibernate /java development/php development experience with html javascript css bootstrap ajax jquery xml should have knowledge or working experience with database like sql server my sql should have complete experience in sdlc process having good command on web design patterns good to have aws exposer good knowledge of various data structures and optimization techniques should code and mentor the team to follow best practices should interact with stake holders to achieve organization goals have experience in managing/leading the team of at least people roletechnical architect industry typeit services consulting functional areait software application programming maintenance employment typefull time permanent role categoryprogramming design education ug any graduate pg post graduation not required key skills hibernatejqueryxmlproject managementphpdata structurespresalesweb designingsdlcajax job description app name cnx player 4k ultra hd video player app on windows android and ios qualities 1. clear thinker with the ability to simplify and explain/diagram complex solutions 2. passionate about software development 3. meticulous able to work independently 4. help in integration of ui with the backend 4. customer service centric 5. self starter with a good sense to collaborate and build a team responsibilities 1. develop windows phone/store apps based on pre-defined requirements 2. ensure that the developed apps are bug free 3. be zealous to write efficient and organized code 4. keep in touch with latest updates and innovations in windows phone/store community 5. contribute to a team of passionate developers requirements must haves 1. clear understanding of app life cycle from tombstoned to fast application switching 2. experience with mvvm pattern and frameworks like mvvm light toolkit calibrun micro and prism months+ 3. understanding of the concepts of shared view model via pcl or shared project year+ 4. experience with telerik windows phone controls cimbalano toolkit 5. write efficient scalable and re-usable code 6. experience of working with web services xml json year+ 7. experience of working with multi-language multi-screen resolutions year+ 8. quickly learn new concepts and deliver functional prototypes 9. experience of working with social network integration facebook twitter google+ what s in for you 1. positivity driven environment to work in 2. good salary 3. flexible working 4. freedom to work your way and deliver the best joining time immediate location mohali job type full time rolesoftware developer industry typeinternet functional areait software application programming maintenance employment typefull time permanent role categoryprogramming design education ug any graduate pg post graduation not required key skills software developmentsocial mediaxmldigital marketingcontent writerjsoniosweb servicesandroidmobile app developer job description this position will work closely on our in-house website analysis platforms to ensure that correct data is collected create a database schema that represents and support business processes perform complex diagnosis of problems providing solutions within area of responsibility and/or through consulting with it team members to coordinate implementation of fixes and enhancements this position willrequire experience in cakephp 3. cakephp will be an addon required experience skills and qualifications 1. proficient in cakephp and should have sound knowledge of angularjs and node js for automation and leveraging npm for package management 2. understanding the nature of asynchronous programming and its quirks and workarounds 3. experience designing responsive pages 4. good understanding of code versioning tools such as git ability to find your way around linux systems 5. experience of task runners like gulp and grunt 6. experience with agile development processes tdd test driven development process 7. skill in aws services such as sqs ses and others 8. good understanding of devops related to aws infrastructure 9. one should be technically sound and self-motivated to learn and implement new technologies what s in for you 1. positivity driven environment to work in 2. good salary 3. flexible working 4. freedom to work your way and deliver the best joining time immediate location mohali job type full time rolesoftware developer industry typeinternet functional areait software ecommerce internet technologies employment typefull time permanent role categoryprogramming design education ug any graduate pg post graduation not required key skills angularjsgitdatabase schemabackend developernode jsdigital marketingcontent writeriosawsandroid job description if you are person you love to take up challenging yet interesting tasks in hand then continue the read below app name cnx player 4k ultra hd video player app on windows android and ios job summary 1. provide design concepts and develop create and integrate the website layouts/user interfaces 2. create responsive web designs and components from the requirements stage through production deployment 3. create wire frames storyboards user flows process flows mock ups and site maps to communicate interaction and design ideas 4. help in integration of ui with the backend 4. design modify develop write and implement html/css code and components 5. work closely with web developers to ensure designs are implemented correctly 6. ensure web pages and other digital assets work across all browsers and devices 7. maintain consistent on-brand creative within a fast-paced and collaborative environment 8. demonstrate a high level of mastery with css and the ability to execute on complex designs as well as a focused understanding of javascript responsibilities and duties 1. working knowledge of html css javascript jquery angularjs reactjs bootstrap 2. expert level proficiency in adobe photoshop dreamweaver adobe illustrator adobe flash web designing corel draw 3. experience designing responsive pages 4. experience working with ux specialists to ideate and develop web pages 5. creative copy writing and editing skills for client websites 6. experience with website prototyping 7. well versed in cross browser and cross platform development ie7+ firefox safari chrome 8. comfortable with converting psd to code 9. should have working knowledge in wordpress drupal and other cms platforms with ability to handle projects independently 10. strong writing communication especially understanding skills what s in for you 1. positivity driven environment to work in 2. good salary 3. flexible working 4. freedom to work your way and deliver the best joining time immediate location mohali job type full time rolegraphic/web designer industry typeinternet functional areait software application programming maintenance employment typefull time permanent role categoryprogramming design education ug any graduate pg post graduation not required key skills illustratorsocial mediacorel drawjavascriptdigital marketingjqueryphotoshopweb designing\n"
     ]
    }
   ],
   "source": [
    "print(df['job_desc'][10])"
   ]
  },
  {
   "cell_type": "code",
   "execution_count": 12,
   "metadata": {},
   "outputs": [
    {
     "ename": "KeyboardInterrupt",
     "evalue": "",
     "output_type": "error",
     "traceback": [
      "\u001b[0;31m---------------------------------------------------------------------------\u001b[0m",
      "\u001b[0;31mKeyboardInterrupt\u001b[0m                         Traceback (most recent call last)",
      "\u001b[0;32m<ipython-input-12-75f880a03cc6>\u001b[0m in \u001b[0;36m<module>\u001b[0;34m\u001b[0m\n\u001b[1;32m     11\u001b[0m     \u001b[0;32mfor\u001b[0m \u001b[0meach\u001b[0m \u001b[0;32min\u001b[0m \u001b[0mcurr\u001b[0m\u001b[0;34m:\u001b[0m\u001b[0;34m\u001b[0m\u001b[0;34m\u001b[0m\u001b[0m\n\u001b[1;32m     12\u001b[0m         \u001b[0;32mif\u001b[0m \u001b[0meach\u001b[0m \u001b[0;32mnot\u001b[0m \u001b[0;32min\u001b[0m \u001b[0msw\u001b[0m\u001b[0;34m:\u001b[0m\u001b[0;34m\u001b[0m\u001b[0;34m\u001b[0m\u001b[0m\n\u001b[0;32m---> 13\u001b[0;31m             \u001b[0mt_words\u001b[0m \u001b[0;34m=\u001b[0m \u001b[0mt_words\u001b[0m \u001b[0;34m+\u001b[0m \u001b[0;34m\" \"\u001b[0m \u001b[0;34m+\u001b[0m \u001b[0meach\u001b[0m\u001b[0;34m\u001b[0m\u001b[0;34m\u001b[0m\u001b[0m\n\u001b[0m\u001b[1;32m     14\u001b[0m     \u001b[0mdf\u001b[0m\u001b[0;34m[\u001b[0m\u001b[0;34m'job_desc'\u001b[0m\u001b[0;34m]\u001b[0m\u001b[0;34m.\u001b[0m\u001b[0mvalues\u001b[0m\u001b[0;34m[\u001b[0m\u001b[0mi\u001b[0m\u001b[0;34m]\u001b[0m \u001b[0;34m=\u001b[0m \u001b[0mt_words\u001b[0m\u001b[0;34m\u001b[0m\u001b[0;34m\u001b[0m\u001b[0m\n\u001b[1;32m     15\u001b[0m \u001b[0;34m\u001b[0m\u001b[0m\n",
      "\u001b[0;31mKeyboardInterrupt\u001b[0m: "
     ]
    }
   ],
   "source": [
    "import nltk\n",
    "from nltk.tokenize import word_tokenize\n",
    "from nltk.corpus import stopwords\n",
    "\n",
    "sw = stopwords.words('english')\n",
    "\n",
    "\n",
    "#removing stopwords and punctuations\n",
    "for i in range(df['job_desc'].shape[0]):\n",
    "    curr = word_tokenize(df['job_desc'].values[i])\n",
    "    for each in curr:\n",
    "        if each not in sw:\n",
    "            t_words = t_words + \" \" + each\n",
    "    df['job_desc'].values[i] = t_words\n",
    "\n",
    "            \n",
    "\n",
    "df.head()"
   ]
  },
  {
   "cell_type": "code",
   "execution_count": null,
   "metadata": {},
   "outputs": [],
   "source": [
    "print(df['job_desc'][10])"
   ]
  },
  {
   "cell_type": "code",
   "execution_count": 11,
   "metadata": {},
   "outputs": [
    {
     "name": "stdout",
     "output_type": "stream",
     "text": [
      "['Illustrator', 'Social Media', 'Corel Draw', 'Javascript', 'Digital Marketing', 'Jquery', 'Photoshop', 'Web Designing']\n"
     ]
    }
   ],
   "source": [
    "print(df.key_skills[10])"
   ]
  },
  {
   "cell_type": "code",
   "execution_count": 49,
   "metadata": {},
   "outputs": [
    {
     "data": {
      "text/plain": [
       "0    [EAM, SAP ECC, Solution Management, ITIL, ARM,...\n",
       "1                                               [ABAP]\n",
       "2         [CSS, Express, Html5, JS, MongoDB, React.Js]\n",
       "3                          [Oauth, .Net, HTTP, Python]\n",
       "4                  [C#, Opencv, Image Processing, C++]\n",
       "Name: key_skills, dtype: object"
      ]
     },
     "execution_count": 49,
     "metadata": {},
     "output_type": "execute_result"
    }
   ],
   "source": [
    "#converting str to list\n",
    "for i in range(df.key_skills.shape[0]):\n",
    "    list1 = [val for val in df.key_skills.values[i].split('\\'') if not(val == ', ') and not(val == ']') and not(val == '[')]\n",
    "    df.key_skills.values[i] = list1\n",
    "\n",
    "df.key_skills.head(5)"
   ]
  },
  {
   "cell_type": "code",
   "execution_count": null,
   "metadata": {},
   "outputs": [],
   "source": []
  },
  {
   "cell_type": "code",
   "execution_count": 50,
   "metadata": {},
   "outputs": [
    {
     "data": {
      "text/plain": [
       "list"
      ]
     },
     "execution_count": 50,
     "metadata": {},
     "output_type": "execute_result"
    }
   ],
   "source": [
    "type(df.key_skills.values[0])"
   ]
  },
  {
   "cell_type": "code",
   "execution_count": 51,
   "metadata": {},
   "outputs": [],
   "source": [
    "#processing salary range\n",
    "for i in range(df['salary'].shape[0]):\n",
    "    if  df['salary'].values[i]!='Not Disclosed':\n",
    "        try:\n",
    "            list_of_values=df['salary'].values[i].split('-')\n",
    "            if len(list_of_values)==1:\n",
    "                val1=list_of_values[0].split(' ')\n",
    "                value = [x.replace(',','')  for x in val1 if x.replace(',','').isdigit()]\n",
    "                df['salary'].values[i]=int(value[0])\n",
    "            else:\n",
    "                val1=list_of_values[0].split(' ')\n",
    "                val2=list_of_values[1].split(' ')\n",
    "                value1 = [x.replace(',','')  for x in val1 if x.replace(',','').isdigit()]\n",
    "                value2 = [x.replace(',','')  for x in val2 if x.replace(',','').isdigit()]\n",
    "\n",
    "                df['salary'].values[i]=(int(value1[0])+int(value2[0]))/2\n",
    "        except:\n",
    "            print(list_of_values)"
   ]
  },
  {
   "cell_type": "code",
   "execution_count": 52,
   "metadata": {},
   "outputs": [
    {
     "data": {
      "text/plain": [
       "Not Disclosed    1029\n",
       "1500000.0          15\n",
       "1000000.0          13\n",
       "450000.0           12\n",
       "1100000.0          12\n",
       "                 ... \n",
       "675000.0            1\n",
       "312500.0            1\n",
       "262500.0            1\n",
       "2750000.0           1\n",
       "3750000.0           1\n",
       "Name: salary, Length: 79, dtype: int64"
      ]
     },
     "execution_count": 52,
     "metadata": {},
     "output_type": "execute_result"
    }
   ],
   "source": [
    "df.salary.value_counts()"
   ]
  },
  {
   "cell_type": "code",
   "execution_count": 53,
   "metadata": {},
   "outputs": [],
   "source": [
    "df.to_csv('Processed_data.csv', index=False)"
   ]
  }
 ],
 "metadata": {
  "kernelspec": {
   "display_name": "Python 3",
   "language": "python",
   "name": "python3"
  },
  "language_info": {
   "codemirror_mode": {
    "name": "ipython",
    "version": 3
   },
   "file_extension": ".py",
   "mimetype": "text/x-python",
   "name": "python",
   "nbconvert_exporter": "python",
   "pygments_lexer": "ipython3",
   "version": "3.8.10"
  }
 },
 "nbformat": 4,
 "nbformat_minor": 4
}
